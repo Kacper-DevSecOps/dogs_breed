{
  "cells": [
    {
      "cell_type": "markdown",
      "source": [
        "#ResNet18"
      ],
      "metadata": {
        "id": "LZCO8qlDf5Ji"
      },
      "id": "LZCO8qlDf5Ji"
    },
    {
      "cell_type": "code",
      "execution_count": 14,
      "id": "9196a05a-afa9-4f8a-8d76-847c2db4ab93",
      "metadata": {
        "colab": {
          "base_uri": "https://localhost:8080/"
        },
        "id": "9196a05a-afa9-4f8a-8d76-847c2db4ab93",
        "outputId": "f58c14a7-5095-4697-e9b5-3ca7b7e8ef0c"
      },
      "outputs": [
        {
          "output_type": "stream",
          "name": "stdout",
          "text": [
            "Requirement already satisfied: kagglehub in /usr/local/lib/python3.11/dist-packages (0.3.6)\n",
            "Requirement already satisfied: packaging in /usr/local/lib/python3.11/dist-packages (from kagglehub) (24.2)\n",
            "Requirement already satisfied: requests in /usr/local/lib/python3.11/dist-packages (from kagglehub) (2.32.3)\n",
            "Requirement already satisfied: tqdm in /usr/local/lib/python3.11/dist-packages (from kagglehub) (4.67.1)\n",
            "Requirement already satisfied: charset-normalizer<4,>=2 in /usr/local/lib/python3.11/dist-packages (from requests->kagglehub) (3.4.1)\n",
            "Requirement already satisfied: idna<4,>=2.5 in /usr/local/lib/python3.11/dist-packages (from requests->kagglehub) (3.10)\n",
            "Requirement already satisfied: urllib3<3,>=1.21.1 in /usr/local/lib/python3.11/dist-packages (from requests->kagglehub) (2.3.0)\n",
            "Requirement already satisfied: certifi>=2017.4.17 in /usr/local/lib/python3.11/dist-packages (from requests->kagglehub) (2024.12.14)\n"
          ]
        }
      ],
      "source": [
        "pip install kagglehub"
      ]
    },
    {
      "cell_type": "code",
      "execution_count": 15,
      "id": "9dd90bdd-09ba-43b3-9481-7569f8f14acc",
      "metadata": {
        "colab": {
          "base_uri": "https://localhost:8080/"
        },
        "id": "9dd90bdd-09ba-43b3-9481-7569f8f14acc",
        "outputId": "18f58431-184d-4017-c171-06e9e4ef0316"
      },
      "outputs": [
        {
          "output_type": "stream",
          "name": "stdout",
          "text": [
            "Requirement already satisfied: torch in /usr/local/lib/python3.11/dist-packages (2.5.1+cu121)\n",
            "Requirement already satisfied: filelock in /usr/local/lib/python3.11/dist-packages (from torch) (3.16.1)\n",
            "Requirement already satisfied: typing-extensions>=4.8.0 in /usr/local/lib/python3.11/dist-packages (from torch) (4.12.2)\n",
            "Requirement already satisfied: networkx in /usr/local/lib/python3.11/dist-packages (from torch) (3.4.2)\n",
            "Requirement already satisfied: jinja2 in /usr/local/lib/python3.11/dist-packages (from torch) (3.1.5)\n",
            "Requirement already satisfied: fsspec in /usr/local/lib/python3.11/dist-packages (from torch) (2024.10.0)\n",
            "Requirement already satisfied: nvidia-cuda-nvrtc-cu12==12.1.105 in /usr/local/lib/python3.11/dist-packages (from torch) (12.1.105)\n",
            "Requirement already satisfied: nvidia-cuda-runtime-cu12==12.1.105 in /usr/local/lib/python3.11/dist-packages (from torch) (12.1.105)\n",
            "Requirement already satisfied: nvidia-cuda-cupti-cu12==12.1.105 in /usr/local/lib/python3.11/dist-packages (from torch) (12.1.105)\n",
            "Requirement already satisfied: nvidia-cudnn-cu12==9.1.0.70 in /usr/local/lib/python3.11/dist-packages (from torch) (9.1.0.70)\n",
            "Requirement already satisfied: nvidia-cublas-cu12==12.1.3.1 in /usr/local/lib/python3.11/dist-packages (from torch) (12.1.3.1)\n",
            "Requirement already satisfied: nvidia-cufft-cu12==11.0.2.54 in /usr/local/lib/python3.11/dist-packages (from torch) (11.0.2.54)\n",
            "Requirement already satisfied: nvidia-curand-cu12==10.3.2.106 in /usr/local/lib/python3.11/dist-packages (from torch) (10.3.2.106)\n",
            "Requirement already satisfied: nvidia-cusolver-cu12==11.4.5.107 in /usr/local/lib/python3.11/dist-packages (from torch) (11.4.5.107)\n",
            "Requirement already satisfied: nvidia-cusparse-cu12==12.1.0.106 in /usr/local/lib/python3.11/dist-packages (from torch) (12.1.0.106)\n",
            "Requirement already satisfied: nvidia-nccl-cu12==2.21.5 in /usr/local/lib/python3.11/dist-packages (from torch) (2.21.5)\n",
            "Requirement already satisfied: nvidia-nvtx-cu12==12.1.105 in /usr/local/lib/python3.11/dist-packages (from torch) (12.1.105)\n",
            "Requirement already satisfied: triton==3.1.0 in /usr/local/lib/python3.11/dist-packages (from torch) (3.1.0)\n",
            "Requirement already satisfied: sympy==1.13.1 in /usr/local/lib/python3.11/dist-packages (from torch) (1.13.1)\n",
            "Requirement already satisfied: nvidia-nvjitlink-cu12 in /usr/local/lib/python3.11/dist-packages (from nvidia-cusolver-cu12==11.4.5.107->torch) (12.6.85)\n",
            "Requirement already satisfied: mpmath<1.4,>=1.1.0 in /usr/local/lib/python3.11/dist-packages (from sympy==1.13.1->torch) (1.3.0)\n",
            "Requirement already satisfied: MarkupSafe>=2.0 in /usr/local/lib/python3.11/dist-packages (from jinja2->torch) (3.0.2)\n"
          ]
        }
      ],
      "source": [
        "pip install torch"
      ]
    },
    {
      "cell_type": "markdown",
      "source": [
        "# 2. Importowanie bibliotek i modułów\n",
        "Ładowanie kluczowych bibliotek potrzebne do obsługi danych, procesowania obrazów, modelowania głębokiego uczenia oraz ewaluacji modelu. Wykorzystywane są tu torch i torchvision dla operacji na sieciach neuronowych i obrazach, w tym ładowanie modelu ResNet18. Funkcje jak DataLoader, WeightedRandomSampler, i random_split wspierają efektywne ładowanie i próbkowanie danych. transforms służy do przygotowania obrazów do modelowania. Biblioteki takie jak pandas dla operacji na danych, matplotlib dla wizualizacji, oraz sklearn.metrics dla metryk ewaluacyjnych ułatwiają zarządzanie i analizę wyników. tqdm dodaje pasek postępu dla operacji długotrwałych, a Counter pomaga w analizie rozkładu danych.\n",
        "\n",
        "\n",
        "\n",
        "\n",
        "\n",
        "\n"
      ],
      "metadata": {
        "id": "fD3gj-shf_rY"
      },
      "id": "fD3gj-shf_rY"
    },
    {
      "cell_type": "code",
      "execution_count": 16,
      "id": "86e7288097673a44",
      "metadata": {
        "id": "86e7288097673a44"
      },
      "outputs": [],
      "source": [
        "import kagglehub\n",
        "import torch\n",
        "from torch.utils.data import WeightedRandomSampler\n",
        "from torch.utils.data import DataLoader, random_split\n",
        "from torchvision.models import ResNet18_Weights\n",
        "from torch.utils.data import DataLoader\n",
        "from torchvision import datasets, transforms, models\n",
        "from torchvision import transforms\n",
        "from sklearn.metrics import classification_report, confusion_matrix, roc_auc_score, f1_score\n",
        "from tqdm import tqdm\n",
        "import matplotlib.pyplot as plt\n",
        "import pandas as pd\n",
        "from collections import Counter"
      ]
    },
    {
      "cell_type": "markdown",
      "source": [
        "#3. Pobranie zestawów danych"
      ],
      "metadata": {
        "id": "p7laD73ags-C"
      },
      "id": "p7laD73ags-C"
    },
    {
      "cell_type": "code",
      "execution_count": 4,
      "id": "72ae0bd84147765e",
      "metadata": {
        "colab": {
          "base_uri": "https://localhost:8080/"
        },
        "id": "72ae0bd84147765e",
        "outputId": "4dbd73f8-2981-4c3d-f044-4fd188088c1b"
      },
      "outputs": [
        {
          "output_type": "stream",
          "name": "stdout",
          "text": [
            "Downloading from https://www.kaggle.com/api/v1/datasets/download/jessicali9530/stanford-dogs-dataset?dataset_version_number=2...\n"
          ]
        },
        {
          "output_type": "stream",
          "name": "stderr",
          "text": [
            "100%|██████████| 750M/750M [00:38<00:00, 20.4MB/s]"
          ]
        },
        {
          "output_type": "stream",
          "name": "stdout",
          "text": [
            "Extracting files...\n"
          ]
        },
        {
          "output_type": "stream",
          "name": "stderr",
          "text": [
            "\n"
          ]
        },
        {
          "output_type": "stream",
          "name": "stdout",
          "text": [
            "Downloading from https://www.kaggle.com/api/v1/datasets/download/harishvutukuri/dogs-vs-wolves?dataset_version_number=2...\n"
          ]
        },
        {
          "output_type": "stream",
          "name": "stderr",
          "text": [
            "100%|██████████| 222M/222M [00:12<00:00, 18.1MB/s]"
          ]
        },
        {
          "output_type": "stream",
          "name": "stdout",
          "text": [
            "Extracting files...\n"
          ]
        },
        {
          "output_type": "stream",
          "name": "stderr",
          "text": [
            "\n"
          ]
        },
        {
          "output_type": "stream",
          "name": "stdout",
          "text": [
            "Path to dataset files: /root/.cache/kagglehub/datasets/jessicali9530/stanford-dogs-dataset/versions/2\n",
            "Path to dataset files: /root/.cache/kagglehub/datasets/harishvutukuri/dogs-vs-wolves/versions/2\n"
          ]
        }
      ],
      "source": [
        "path_stanford_dogs = kagglehub.dataset_download(\"jessicali9530/stanford-dogs-dataset\")\n",
        "path_wolfs = kagglehub.dataset_download(\"harishvutukuri/dogs-vs-wolves\")\n",
        "\n",
        "print(\"Path to dataset files:\", path_stanford_dogs)\n",
        "print(\"Path to dataset files:\", path_wolfs)"
      ]
    },
    {
      "cell_type": "code",
      "execution_count": 5,
      "id": "6fa0af03783da4c4",
      "metadata": {
        "colab": {
          "base_uri": "https://localhost:8080/"
        },
        "id": "6fa0af03783da4c4",
        "outputId": "038b746c-3170-4e7f-cfb7-062e2860aca0"
      },
      "outputs": [
        {
          "output_type": "stream",
          "name": "stdout",
          "text": [
            "True\n",
            "12.1\n"
          ]
        }
      ],
      "source": [
        "print(torch.cuda.is_available())\n",
        "print(torch.version.cuda)"
      ]
    },
    {
      "cell_type": "markdown",
      "id": "7990dbdbaea4c422",
      "metadata": {
        "id": "7990dbdbaea4c422"
      },
      "source": [
        "# 4. Organizacja katalogów i integracja zestawów danych\n",
        "W ramach tej operacji, dane z dwóch zestawów - stanford-dogs-dataset oraz dogs-vs-wolves - zostały zintegrowane poprzez przeniesienie obrazów wilków do katalogu obrazów psów. Za pomocą modułów os i shutil, w katalogu images utworzony został nowy podfolder wolf, gdzie umieszczono wszystkie obrazy wilków. Ta strukturalna organizacja danych pozwala na efektywniejsze zarządzanie i dostęp do wszystkich obrazów z obu zestawów w jednej lokalizacji, co ułatwia dalsze przetwarzanie i analizę danych.\n",
        "\n"
      ]
    },
    {
      "cell_type": "code",
      "execution_count": 6,
      "id": "4fec6d562d854d06",
      "metadata": {
        "colab": {
          "base_uri": "https://localhost:8080/"
        },
        "id": "4fec6d562d854d06",
        "outputId": "0140351e-47d9-4102-96ae-d5543b7e79d3"
      },
      "outputs": [
        {
          "output_type": "stream",
          "name": "stdout",
          "text": [
            "Wolves successfully moved into: /root/.cache/kagglehub/datasets/jessicali9530/stanford-dogs-dataset/versions/2/images/Images/wolf\n"
          ]
        }
      ],
      "source": [
        "import os\n",
        "import shutil\n",
        "\n",
        "base_dir = \"data\"\n",
        "dogs_dir = os.path.join(path_stanford_dogs, \"images/Images\")\n",
        "wolves_dir = os.path.join(path_wolfs, \"data\", \"wolves\")\n",
        "\n",
        "def integrate_wolves_into_dogs(dogs_dir, wolves_dir):\n",
        "    \"\"\"\n",
        "    Moves wolf images into the 'images' directory of the dogs dataset\n",
        "    under a new folder named 'wolf'.\n",
        "    \"\"\"\n",
        "    wolf_class_dir = os.path.join(dogs_dir, \"wolf\")\n",
        "    os.makedirs(wolf_class_dir, exist_ok=True)\n",
        "\n",
        "    for file_name in os.listdir(wolves_dir):\n",
        "        src_path = os.path.join(wolves_dir, file_name)\n",
        "        dest_path = os.path.join(wolf_class_dir, file_name)\n",
        "\n",
        "        if os.path.isfile(src_path):\n",
        "            shutil.move(src_path, dest_path)\n",
        "\n",
        "    print(f\"Wolves successfully moved into: {wolf_class_dir}\")\n",
        "\n",
        "integrate_wolves_into_dogs(dogs_dir, wolves_dir)\n"
      ]
    },
    {
      "cell_type": "markdown",
      "source": [
        "#5. Zastosowanie transformacji i próbkowania dla równoważenia zestawu danych\n",
        "W projekcie zastosowano transformacje obrazów, takie jak zmiana rozmiaru, konwersja do tensorów oraz normalizacja, aby przygotować dane wejściowe do efektywnego trenowania modeli głębokiego uczenia, przy czym wykorzystanie GPU jako urządzenia docelowego znacząco przyspieszyło przetwarzanie. Dane zostały podzielone na zestawy treningowe, walidacyjne i testowe, co umożliwia odpowiednią ocenę modelu na różnych etapach uczenia. Dodatkowo, przygotowano próbnik z wagami za pomocą WeightedRandomSampler do równoważenia klas w zestawie treningowym, co zapobiega dominacji liczniejszych klas i poprawia zdolność modelu do generalizacji. Zdefiniowane DataLoader dla każdego zestawu danych gwarantują efektywne ładowanie i przetwarzanie danych w procesie treningu, walidacji i testowania modelu."
      ],
      "metadata": {
        "id": "ktsmJW6Zh6es"
      },
      "id": "ktsmJW6Zh6es"
    },
    {
      "cell_type": "code",
      "execution_count": 7,
      "id": "17ee7ebbd28b63e2",
      "metadata": {
        "id": "17ee7ebbd28b63e2"
      },
      "outputs": [],
      "source": [
        "device = torch.device(\"cuda\")\n",
        "\n",
        "transform = transforms.Compose([\n",
        "    transforms.Resize((224, 224)),\n",
        "    transforms.ToTensor(),\n",
        "    transforms.Normalize(mean=[0.485, 0.456, 0.406], std=[0.229, 0.224, 0.225]),\n",
        "])\n",
        "\n",
        "\n",
        "def prepare_dataset(dogs_dir, transform):\n",
        "\n",
        "    dog_dataset = datasets.ImageFolder(dogs_dir, transform=transform)\n",
        "\n",
        "\n",
        "    train_size = int(0.7 * len(dog_dataset))\n",
        "    val_size = int(0.15 * len(dog_dataset))\n",
        "    test_size = len(dog_dataset) - train_size - val_size\n",
        "    train_dataset, val_dataset, test_dataset = random_split(dog_dataset, [train_size, val_size, test_size])\n",
        "\n",
        "    return train_dataset, val_dataset, test_dataset\n",
        "\n",
        "\n",
        "\n",
        "train_dataset, val_dataset, test_dataset = prepare_dataset(dogs_dir, transform)\n",
        "\n",
        "\n",
        "\n",
        "def create_sampler(dataset):\n",
        "    all_classes = range(len(dataset.dataset.classes))\n",
        "    class_names = dataset.dataset.classes  # Class names from ImageFolder\n",
        "\n",
        "    class_counts = Counter(dataset.dataset.targets[i] for i in dataset.indices)\n",
        "\n",
        "    for cls in all_classes:\n",
        "        if cls not in class_counts:\n",
        "            class_counts[cls] = 0\n",
        "\n",
        "    class_weights = {cls: 1.0 / count for cls, count in class_counts.items()}\n",
        "\n",
        "    sample_weights = [class_weights[dataset.dataset.targets[i]] for i in dataset.indices]\n",
        "\n",
        "    sampler = WeightedRandomSampler(sample_weights, num_samples=len(sample_weights), replacement=True)\n",
        "\n",
        "    weight_df = pd.DataFrame({\n",
        "        'Class': class_names,\n",
        "        'Count': [class_counts[cls] for cls in all_classes],\n",
        "        'Weight': [class_weights[cls] for cls in all_classes]\n",
        "    })\n",
        "\n",
        "    return sampler,weight_df\n",
        "\n",
        "train_sampler,classes_weights = create_sampler(train_dataset)\n",
        "train_loader = DataLoader(train_dataset, batch_size=128, sampler=train_sampler)\n",
        "val_loader = DataLoader(val_dataset, batch_size=128)\n",
        "test_loader = DataLoader(test_dataset, batch_size=128)\n"
      ]
    },
    {
      "cell_type": "code",
      "execution_count": 8,
      "id": "2bnD3ulXsym0",
      "metadata": {
        "colab": {
          "base_uri": "https://localhost:8080/"
        },
        "id": "2bnD3ulXsym0",
        "outputId": "7b047a4f-0ef6-4171-bc32-c9ce65d77c57"
      },
      "outputs": [
        {
          "output_type": "execute_result",
          "data": {
            "text/plain": [
              "Compose(\n",
              "    Resize(size=(224, 224), interpolation=bilinear, max_size=None, antialias=True)\n",
              "    ToTensor()\n",
              "    Normalize(mean=[0.485, 0.456, 0.406], std=[0.229, 0.224, 0.225])\n",
              ")"
            ]
          },
          "metadata": {},
          "execution_count": 8
        }
      ],
      "source": [
        "transform"
      ]
    },
    {
      "cell_type": "code",
      "execution_count": 9,
      "id": "3a717eae8e5c86eb",
      "metadata": {
        "colab": {
          "base_uri": "https://localhost:8080/",
          "height": 423
        },
        "id": "3a717eae8e5c86eb",
        "outputId": "b0a15834-f617-449a-8a4d-60a09acc7438"
      },
      "outputs": [
        {
          "output_type": "execute_result",
          "data": {
            "text/plain": [
              "                             Class  Count    Weight\n",
              "0              n02085620-Chihuahua    105  0.009524\n",
              "1       n02085782-Japanese_spaniel    117  0.008547\n",
              "2            n02085936-Maltese_dog    170  0.005882\n",
              "3               n02086079-Pekinese    107  0.009346\n",
              "4               n02086240-Shih-Tzu    145  0.006897\n",
              "..                             ...    ...       ...\n",
              "116     n02113978-Mexican_hairless    109  0.009174\n",
              "117                n02115641-dingo    108  0.009259\n",
              "118                n02115913-dhole    101  0.009901\n",
              "119  n02116738-African_hunting_dog    127  0.007874\n",
              "120                           wolf    688  0.001453\n",
              "\n",
              "[121 rows x 3 columns]"
            ],
            "text/html": [
              "\n",
              "  <div id=\"df-1e6cab9e-19f2-43e8-9806-8d9d2214728f\" class=\"colab-df-container\">\n",
              "    <div>\n",
              "<style scoped>\n",
              "    .dataframe tbody tr th:only-of-type {\n",
              "        vertical-align: middle;\n",
              "    }\n",
              "\n",
              "    .dataframe tbody tr th {\n",
              "        vertical-align: top;\n",
              "    }\n",
              "\n",
              "    .dataframe thead th {\n",
              "        text-align: right;\n",
              "    }\n",
              "</style>\n",
              "<table border=\"1\" class=\"dataframe\">\n",
              "  <thead>\n",
              "    <tr style=\"text-align: right;\">\n",
              "      <th></th>\n",
              "      <th>Class</th>\n",
              "      <th>Count</th>\n",
              "      <th>Weight</th>\n",
              "    </tr>\n",
              "  </thead>\n",
              "  <tbody>\n",
              "    <tr>\n",
              "      <th>0</th>\n",
              "      <td>n02085620-Chihuahua</td>\n",
              "      <td>105</td>\n",
              "      <td>0.009524</td>\n",
              "    </tr>\n",
              "    <tr>\n",
              "      <th>1</th>\n",
              "      <td>n02085782-Japanese_spaniel</td>\n",
              "      <td>117</td>\n",
              "      <td>0.008547</td>\n",
              "    </tr>\n",
              "    <tr>\n",
              "      <th>2</th>\n",
              "      <td>n02085936-Maltese_dog</td>\n",
              "      <td>170</td>\n",
              "      <td>0.005882</td>\n",
              "    </tr>\n",
              "    <tr>\n",
              "      <th>3</th>\n",
              "      <td>n02086079-Pekinese</td>\n",
              "      <td>107</td>\n",
              "      <td>0.009346</td>\n",
              "    </tr>\n",
              "    <tr>\n",
              "      <th>4</th>\n",
              "      <td>n02086240-Shih-Tzu</td>\n",
              "      <td>145</td>\n",
              "      <td>0.006897</td>\n",
              "    </tr>\n",
              "    <tr>\n",
              "      <th>...</th>\n",
              "      <td>...</td>\n",
              "      <td>...</td>\n",
              "      <td>...</td>\n",
              "    </tr>\n",
              "    <tr>\n",
              "      <th>116</th>\n",
              "      <td>n02113978-Mexican_hairless</td>\n",
              "      <td>109</td>\n",
              "      <td>0.009174</td>\n",
              "    </tr>\n",
              "    <tr>\n",
              "      <th>117</th>\n",
              "      <td>n02115641-dingo</td>\n",
              "      <td>108</td>\n",
              "      <td>0.009259</td>\n",
              "    </tr>\n",
              "    <tr>\n",
              "      <th>118</th>\n",
              "      <td>n02115913-dhole</td>\n",
              "      <td>101</td>\n",
              "      <td>0.009901</td>\n",
              "    </tr>\n",
              "    <tr>\n",
              "      <th>119</th>\n",
              "      <td>n02116738-African_hunting_dog</td>\n",
              "      <td>127</td>\n",
              "      <td>0.007874</td>\n",
              "    </tr>\n",
              "    <tr>\n",
              "      <th>120</th>\n",
              "      <td>wolf</td>\n",
              "      <td>688</td>\n",
              "      <td>0.001453</td>\n",
              "    </tr>\n",
              "  </tbody>\n",
              "</table>\n",
              "<p>121 rows × 3 columns</p>\n",
              "</div>\n",
              "    <div class=\"colab-df-buttons\">\n",
              "\n",
              "  <div class=\"colab-df-container\">\n",
              "    <button class=\"colab-df-convert\" onclick=\"convertToInteractive('df-1e6cab9e-19f2-43e8-9806-8d9d2214728f')\"\n",
              "            title=\"Convert this dataframe to an interactive table.\"\n",
              "            style=\"display:none;\">\n",
              "\n",
              "  <svg xmlns=\"http://www.w3.org/2000/svg\" height=\"24px\" viewBox=\"0 -960 960 960\">\n",
              "    <path d=\"M120-120v-720h720v720H120Zm60-500h600v-160H180v160Zm220 220h160v-160H400v160Zm0 220h160v-160H400v160ZM180-400h160v-160H180v160Zm440 0h160v-160H620v160ZM180-180h160v-160H180v160Zm440 0h160v-160H620v160Z\"/>\n",
              "  </svg>\n",
              "    </button>\n",
              "\n",
              "  <style>\n",
              "    .colab-df-container {\n",
              "      display:flex;\n",
              "      gap: 12px;\n",
              "    }\n",
              "\n",
              "    .colab-df-convert {\n",
              "      background-color: #E8F0FE;\n",
              "      border: none;\n",
              "      border-radius: 50%;\n",
              "      cursor: pointer;\n",
              "      display: none;\n",
              "      fill: #1967D2;\n",
              "      height: 32px;\n",
              "      padding: 0 0 0 0;\n",
              "      width: 32px;\n",
              "    }\n",
              "\n",
              "    .colab-df-convert:hover {\n",
              "      background-color: #E2EBFA;\n",
              "      box-shadow: 0px 1px 2px rgba(60, 64, 67, 0.3), 0px 1px 3px 1px rgba(60, 64, 67, 0.15);\n",
              "      fill: #174EA6;\n",
              "    }\n",
              "\n",
              "    .colab-df-buttons div {\n",
              "      margin-bottom: 4px;\n",
              "    }\n",
              "\n",
              "    [theme=dark] .colab-df-convert {\n",
              "      background-color: #3B4455;\n",
              "      fill: #D2E3FC;\n",
              "    }\n",
              "\n",
              "    [theme=dark] .colab-df-convert:hover {\n",
              "      background-color: #434B5C;\n",
              "      box-shadow: 0px 1px 3px 1px rgba(0, 0, 0, 0.15);\n",
              "      filter: drop-shadow(0px 1px 2px rgba(0, 0, 0, 0.3));\n",
              "      fill: #FFFFFF;\n",
              "    }\n",
              "  </style>\n",
              "\n",
              "    <script>\n",
              "      const buttonEl =\n",
              "        document.querySelector('#df-1e6cab9e-19f2-43e8-9806-8d9d2214728f button.colab-df-convert');\n",
              "      buttonEl.style.display =\n",
              "        google.colab.kernel.accessAllowed ? 'block' : 'none';\n",
              "\n",
              "      async function convertToInteractive(key) {\n",
              "        const element = document.querySelector('#df-1e6cab9e-19f2-43e8-9806-8d9d2214728f');\n",
              "        const dataTable =\n",
              "          await google.colab.kernel.invokeFunction('convertToInteractive',\n",
              "                                                    [key], {});\n",
              "        if (!dataTable) return;\n",
              "\n",
              "        const docLinkHtml = 'Like what you see? Visit the ' +\n",
              "          '<a target=\"_blank\" href=https://colab.research.google.com/notebooks/data_table.ipynb>data table notebook</a>'\n",
              "          + ' to learn more about interactive tables.';\n",
              "        element.innerHTML = '';\n",
              "        dataTable['output_type'] = 'display_data';\n",
              "        await google.colab.output.renderOutput(dataTable, element);\n",
              "        const docLink = document.createElement('div');\n",
              "        docLink.innerHTML = docLinkHtml;\n",
              "        element.appendChild(docLink);\n",
              "      }\n",
              "    </script>\n",
              "  </div>\n",
              "\n",
              "\n",
              "<div id=\"df-5bd9fe21-e03f-4434-b08f-eee662a02f37\">\n",
              "  <button class=\"colab-df-quickchart\" onclick=\"quickchart('df-5bd9fe21-e03f-4434-b08f-eee662a02f37')\"\n",
              "            title=\"Suggest charts\"\n",
              "            style=\"display:none;\">\n",
              "\n",
              "<svg xmlns=\"http://www.w3.org/2000/svg\" height=\"24px\"viewBox=\"0 0 24 24\"\n",
              "     width=\"24px\">\n",
              "    <g>\n",
              "        <path d=\"M19 3H5c-1.1 0-2 .9-2 2v14c0 1.1.9 2 2 2h14c1.1 0 2-.9 2-2V5c0-1.1-.9-2-2-2zM9 17H7v-7h2v7zm4 0h-2V7h2v10zm4 0h-2v-4h2v4z\"/>\n",
              "    </g>\n",
              "</svg>\n",
              "  </button>\n",
              "\n",
              "<style>\n",
              "  .colab-df-quickchart {\n",
              "      --bg-color: #E8F0FE;\n",
              "      --fill-color: #1967D2;\n",
              "      --hover-bg-color: #E2EBFA;\n",
              "      --hover-fill-color: #174EA6;\n",
              "      --disabled-fill-color: #AAA;\n",
              "      --disabled-bg-color: #DDD;\n",
              "  }\n",
              "\n",
              "  [theme=dark] .colab-df-quickchart {\n",
              "      --bg-color: #3B4455;\n",
              "      --fill-color: #D2E3FC;\n",
              "      --hover-bg-color: #434B5C;\n",
              "      --hover-fill-color: #FFFFFF;\n",
              "      --disabled-bg-color: #3B4455;\n",
              "      --disabled-fill-color: #666;\n",
              "  }\n",
              "\n",
              "  .colab-df-quickchart {\n",
              "    background-color: var(--bg-color);\n",
              "    border: none;\n",
              "    border-radius: 50%;\n",
              "    cursor: pointer;\n",
              "    display: none;\n",
              "    fill: var(--fill-color);\n",
              "    height: 32px;\n",
              "    padding: 0;\n",
              "    width: 32px;\n",
              "  }\n",
              "\n",
              "  .colab-df-quickchart:hover {\n",
              "    background-color: var(--hover-bg-color);\n",
              "    box-shadow: 0 1px 2px rgba(60, 64, 67, 0.3), 0 1px 3px 1px rgba(60, 64, 67, 0.15);\n",
              "    fill: var(--button-hover-fill-color);\n",
              "  }\n",
              "\n",
              "  .colab-df-quickchart-complete:disabled,\n",
              "  .colab-df-quickchart-complete:disabled:hover {\n",
              "    background-color: var(--disabled-bg-color);\n",
              "    fill: var(--disabled-fill-color);\n",
              "    box-shadow: none;\n",
              "  }\n",
              "\n",
              "  .colab-df-spinner {\n",
              "    border: 2px solid var(--fill-color);\n",
              "    border-color: transparent;\n",
              "    border-bottom-color: var(--fill-color);\n",
              "    animation:\n",
              "      spin 1s steps(1) infinite;\n",
              "  }\n",
              "\n",
              "  @keyframes spin {\n",
              "    0% {\n",
              "      border-color: transparent;\n",
              "      border-bottom-color: var(--fill-color);\n",
              "      border-left-color: var(--fill-color);\n",
              "    }\n",
              "    20% {\n",
              "      border-color: transparent;\n",
              "      border-left-color: var(--fill-color);\n",
              "      border-top-color: var(--fill-color);\n",
              "    }\n",
              "    30% {\n",
              "      border-color: transparent;\n",
              "      border-left-color: var(--fill-color);\n",
              "      border-top-color: var(--fill-color);\n",
              "      border-right-color: var(--fill-color);\n",
              "    }\n",
              "    40% {\n",
              "      border-color: transparent;\n",
              "      border-right-color: var(--fill-color);\n",
              "      border-top-color: var(--fill-color);\n",
              "    }\n",
              "    60% {\n",
              "      border-color: transparent;\n",
              "      border-right-color: var(--fill-color);\n",
              "    }\n",
              "    80% {\n",
              "      border-color: transparent;\n",
              "      border-right-color: var(--fill-color);\n",
              "      border-bottom-color: var(--fill-color);\n",
              "    }\n",
              "    90% {\n",
              "      border-color: transparent;\n",
              "      border-bottom-color: var(--fill-color);\n",
              "    }\n",
              "  }\n",
              "</style>\n",
              "\n",
              "  <script>\n",
              "    async function quickchart(key) {\n",
              "      const quickchartButtonEl =\n",
              "        document.querySelector('#' + key + ' button');\n",
              "      quickchartButtonEl.disabled = true;  // To prevent multiple clicks.\n",
              "      quickchartButtonEl.classList.add('colab-df-spinner');\n",
              "      try {\n",
              "        const charts = await google.colab.kernel.invokeFunction(\n",
              "            'suggestCharts', [key], {});\n",
              "      } catch (error) {\n",
              "        console.error('Error during call to suggestCharts:', error);\n",
              "      }\n",
              "      quickchartButtonEl.classList.remove('colab-df-spinner');\n",
              "      quickchartButtonEl.classList.add('colab-df-quickchart-complete');\n",
              "    }\n",
              "    (() => {\n",
              "      let quickchartButtonEl =\n",
              "        document.querySelector('#df-5bd9fe21-e03f-4434-b08f-eee662a02f37 button');\n",
              "      quickchartButtonEl.style.display =\n",
              "        google.colab.kernel.accessAllowed ? 'block' : 'none';\n",
              "    })();\n",
              "  </script>\n",
              "</div>\n",
              "\n",
              "  <div id=\"id_3fb5c98f-6dac-4138-b419-747579511ad3\">\n",
              "    <style>\n",
              "      .colab-df-generate {\n",
              "        background-color: #E8F0FE;\n",
              "        border: none;\n",
              "        border-radius: 50%;\n",
              "        cursor: pointer;\n",
              "        display: none;\n",
              "        fill: #1967D2;\n",
              "        height: 32px;\n",
              "        padding: 0 0 0 0;\n",
              "        width: 32px;\n",
              "      }\n",
              "\n",
              "      .colab-df-generate:hover {\n",
              "        background-color: #E2EBFA;\n",
              "        box-shadow: 0px 1px 2px rgba(60, 64, 67, 0.3), 0px 1px 3px 1px rgba(60, 64, 67, 0.15);\n",
              "        fill: #174EA6;\n",
              "      }\n",
              "\n",
              "      [theme=dark] .colab-df-generate {\n",
              "        background-color: #3B4455;\n",
              "        fill: #D2E3FC;\n",
              "      }\n",
              "\n",
              "      [theme=dark] .colab-df-generate:hover {\n",
              "        background-color: #434B5C;\n",
              "        box-shadow: 0px 1px 3px 1px rgba(0, 0, 0, 0.15);\n",
              "        filter: drop-shadow(0px 1px 2px rgba(0, 0, 0, 0.3));\n",
              "        fill: #FFFFFF;\n",
              "      }\n",
              "    </style>\n",
              "    <button class=\"colab-df-generate\" onclick=\"generateWithVariable('classes_weights')\"\n",
              "            title=\"Generate code using this dataframe.\"\n",
              "            style=\"display:none;\">\n",
              "\n",
              "  <svg xmlns=\"http://www.w3.org/2000/svg\" height=\"24px\"viewBox=\"0 0 24 24\"\n",
              "       width=\"24px\">\n",
              "    <path d=\"M7,19H8.4L18.45,9,17,7.55,7,17.6ZM5,21V16.75L18.45,3.32a2,2,0,0,1,2.83,0l1.4,1.43a1.91,1.91,0,0,1,.58,1.4,1.91,1.91,0,0,1-.58,1.4L9.25,21ZM18.45,9,17,7.55Zm-12,3A5.31,5.31,0,0,0,4.9,8.1,5.31,5.31,0,0,0,1,6.5,5.31,5.31,0,0,0,4.9,4.9,5.31,5.31,0,0,0,6.5,1,5.31,5.31,0,0,0,8.1,4.9,5.31,5.31,0,0,0,12,6.5,5.46,5.46,0,0,0,6.5,12Z\"/>\n",
              "  </svg>\n",
              "    </button>\n",
              "    <script>\n",
              "      (() => {\n",
              "      const buttonEl =\n",
              "        document.querySelector('#id_3fb5c98f-6dac-4138-b419-747579511ad3 button.colab-df-generate');\n",
              "      buttonEl.style.display =\n",
              "        google.colab.kernel.accessAllowed ? 'block' : 'none';\n",
              "\n",
              "      buttonEl.onclick = () => {\n",
              "        google.colab.notebook.generateWithVariable('classes_weights');\n",
              "      }\n",
              "      })();\n",
              "    </script>\n",
              "  </div>\n",
              "\n",
              "    </div>\n",
              "  </div>\n"
            ],
            "application/vnd.google.colaboratory.intrinsic+json": {
              "type": "dataframe",
              "variable_name": "classes_weights",
              "summary": "{\n  \"name\": \"classes_weights\",\n  \"rows\": 121,\n  \"fields\": [\n    {\n      \"column\": \"Class\",\n      \"properties\": {\n        \"dtype\": \"string\",\n        \"num_unique_values\": 121,\n        \"samples\": [\n          \"n02096585-Boston_bull\",\n          \"n02097209-standard_schnauzer\",\n          \"n02086240-Shih-Tzu\"\n        ],\n        \"semantic_type\": \"\",\n        \"description\": \"\"\n      }\n    },\n    {\n      \"column\": \"Count\",\n      \"properties\": {\n        \"dtype\": \"number\",\n        \"std\": 54,\n        \"min\": 94,\n        \"max\": 688,\n        \"num_unique_values\": 48,\n        \"samples\": [\n          115,\n          154,\n          129\n        ],\n        \"semantic_type\": \"\",\n        \"description\": \"\"\n      }\n    },\n    {\n      \"column\": \"Weight\",\n      \"properties\": {\n        \"dtype\": \"number\",\n        \"std\": 0.0012434319561464536,\n        \"min\": 0.0014534883720930232,\n        \"max\": 0.010638297872340425,\n        \"num_unique_values\": 48,\n        \"samples\": [\n          0.008695652173913044,\n          0.006493506493506494,\n          0.007751937984496124\n        ],\n        \"semantic_type\": \"\",\n        \"description\": \"\"\n      }\n    }\n  ]\n}"
            }
          },
          "metadata": {},
          "execution_count": 9
        }
      ],
      "source": [
        "classes_weights"
      ]
    },
    {
      "cell_type": "markdown",
      "source": [
        "#6. Konfiguracja i trening modelu ResNet18\n",
        "\n",
        "Konfiguracja i trening modelu ResNet18: Projekt wykorzystuje model ResNet18 z domyślnymi wagami, dostosowany do zadania poprzez zmianę warstwy wyjściowej na odpowiadającą liczbie klas. Model operuje na GPU dla zwiększenia wydajności.\n",
        "\n",
        "Trening używa funkcji straty CrossEntropyLoss i optymalizatora Adam. Funkcja train_model realizuje trening przez określoną liczbę epok, z możliwością wcześniejszego zakończenia przy braku postępów. W trakcie treningu następuje ewaluacja modelu na danych walidacyjnych, gdzie obliczana jest strata, dokładność oraz wynik F1, istotny dla oceny modelu przy niezbalansowanych klasach.\n",
        "\n",
        "Najlepszy model jest zapisywany i wykorzystywany w dalszym procesie, co gwarantuje użycie najbardziej efektywnego wariantu w praktycznych zastosowaniach."
      ],
      "metadata": {
        "id": "WTNatfRJicht"
      },
      "id": "WTNatfRJicht"
    },
    {
      "cell_type": "code",
      "execution_count": 10,
      "id": "initial_id",
      "metadata": {
        "colab": {
          "base_uri": "https://localhost:8080/"
        },
        "id": "initial_id",
        "outputId": "022035f7-ac47-46de-ec00-68b0a6741e6c"
      },
      "outputs": [
        {
          "output_type": "stream",
          "name": "stderr",
          "text": [
            "Downloading: \"https://download.pytorch.org/models/resnet18-f37072fd.pth\" to /root/.cache/torch/hub/checkpoints/resnet18-f37072fd.pth\n",
            "100%|██████████| 44.7M/44.7M [00:00<00:00, 206MB/s]\n",
            "Epoch 1/10: 100%|██████████| 119/119 [01:48<00:00,  1.09batch/s, loss=4.87]\n"
          ]
        },
        {
          "output_type": "stream",
          "name": "stdout",
          "text": [
            "Epoch 1/10 - Train Loss: 1.9094, Val Loss: 2.5300, Val Accuracy: 0.3627, Val F1-Score: 0.3561\n"
          ]
        },
        {
          "output_type": "stream",
          "name": "stderr",
          "text": [
            "Epoch 2/10: 100%|██████████| 119/119 [01:46<00:00,  1.12batch/s, loss=5.5]\n"
          ]
        },
        {
          "output_type": "stream",
          "name": "stdout",
          "text": [
            "Epoch 2/10 - Train Loss: 0.9546, Val Loss: 1.9107, Val Accuracy: 0.4829, Val F1-Score: 0.4803\n"
          ]
        },
        {
          "output_type": "stream",
          "name": "stderr",
          "text": [
            "Epoch 3/10: 100%|██████████| 119/119 [01:47<00:00,  1.11batch/s, loss=6.32]\n"
          ]
        },
        {
          "output_type": "stream",
          "name": "stdout",
          "text": [
            "Epoch 3/10 - Train Loss: 0.6257, Val Loss: 1.8101, Val Accuracy: 0.5209, Val F1-Score: 0.5165\n"
          ]
        },
        {
          "output_type": "stream",
          "name": "stderr",
          "text": [
            "Epoch 4/10: 100%|██████████| 119/119 [01:47<00:00,  1.11batch/s, loss=6.73]\n"
          ]
        },
        {
          "output_type": "stream",
          "name": "stdout",
          "text": [
            "Epoch 4/10 - Train Loss: 0.4407, Val Loss: 1.8960, Val Accuracy: 0.5141, Val F1-Score: 0.5164\n"
          ]
        },
        {
          "output_type": "stream",
          "name": "stderr",
          "text": [
            "Epoch 5/10: 100%|██████████| 119/119 [01:45<00:00,  1.12batch/s, loss=5.11]\n"
          ]
        },
        {
          "output_type": "stream",
          "name": "stdout",
          "text": [
            "Epoch 5/10 - Train Loss: 0.3090, Val Loss: 2.2212, Val Accuracy: 0.4906, Val F1-Score: 0.4924\n"
          ]
        },
        {
          "output_type": "stream",
          "name": "stderr",
          "text": [
            "Epoch 6/10: 100%|██████████| 119/119 [01:46<00:00,  1.11batch/s, loss=7.19]\n"
          ]
        },
        {
          "output_type": "stream",
          "name": "stdout",
          "text": [
            "Epoch 6/10 - Train Loss: 0.2680, Val Loss: 2.2054, Val Accuracy: 0.5066, Val F1-Score: 0.5091\n"
          ]
        },
        {
          "output_type": "stream",
          "name": "stderr",
          "text": [
            "Epoch 7/10: 100%|██████████| 119/119 [01:47<00:00,  1.11batch/s, loss=6.24]\n"
          ]
        },
        {
          "output_type": "stream",
          "name": "stdout",
          "text": [
            "Epoch 7/10 - Train Loss: 0.2113, Val Loss: 1.8571, Val Accuracy: 0.5622, Val F1-Score: 0.5584\n"
          ]
        },
        {
          "output_type": "stream",
          "name": "stderr",
          "text": [
            "Epoch 8/10: 100%|██████████| 119/119 [01:46<00:00,  1.12batch/s, loss=7.81]\n"
          ]
        },
        {
          "output_type": "stream",
          "name": "stdout",
          "text": [
            "Epoch 8/10 - Train Loss: 0.1984, Val Loss: 1.8333, Val Accuracy: 0.5697, Val F1-Score: 0.5700\n"
          ]
        },
        {
          "output_type": "stream",
          "name": "stderr",
          "text": [
            "Epoch 9/10: 100%|██████████| 119/119 [01:47<00:00,  1.11batch/s, loss=7.09]\n"
          ]
        },
        {
          "output_type": "stream",
          "name": "stdout",
          "text": [
            "Epoch 9/10 - Train Loss: 0.1801, Val Loss: 2.2934, Val Accuracy: 0.5100, Val F1-Score: 0.5003\n"
          ]
        },
        {
          "output_type": "stream",
          "name": "stderr",
          "text": [
            "Epoch 10/10: 100%|██████████| 119/119 [01:46<00:00,  1.11batch/s, loss=7.21]\n"
          ]
        },
        {
          "output_type": "stream",
          "name": "stdout",
          "text": [
            "Epoch 10/10 - Train Loss: 0.1808, Val Loss: 1.9592, Val Accuracy: 0.5644, Val F1-Score: 0.5609\n",
            "Best Validation F1-Score: 0.5700\n"
          ]
        }
      ],
      "source": [
        "model = models.resnet18(weights=ResNet18_Weights.DEFAULT)\n",
        "num_classes = len(train_dataset.dataset.classes)\n",
        "model.fc = torch.nn.Linear(model.fc.in_features, num_classes)\n",
        "model = model.to(device)\n",
        "\n",
        "\n",
        "criterion = torch.nn.CrossEntropyLoss()\n",
        "optimizer = torch.optim.Adam(model.parameters(), lr=0.001)\n",
        "\n",
        "\n",
        "def train_model(model, train_loader, val_loader, criterion, optimizer, epochs=20, patience=5):\n",
        "    history = {\n",
        "        'train_loss': [],\n",
        "        'val_loss': [],\n",
        "        'val_accuracy': [],\n",
        "        'val_f1': []\n",
        "    }\n",
        "    best_f1 = 0.0\n",
        "    no_improvement = 0\n",
        "    best_model_path = \"best_model.pth\"\n",
        "\n",
        "    for epoch in range(epochs):\n",
        "        model.train()\n",
        "        running_loss = 0.0\n",
        "        train_loop = tqdm(train_loader, desc=f\"Epoch {epoch+1}/{epochs}\", unit=\"batch\")\n",
        "\n",
        "        for inputs, labels in train_loop:\n",
        "            inputs, labels = inputs.to(device), labels.to(device)\n",
        "            optimizer.zero_grad()\n",
        "            outputs = model(inputs)\n",
        "            loss = criterion(outputs, labels)\n",
        "            loss.backward()\n",
        "            optimizer.step()\n",
        "            running_loss += loss.item()\n",
        "            train_loop.set_postfix(loss=loss.item())\n",
        "\n",
        "        avg_train_loss = running_loss / len(train_loader)\n",
        "        history['train_loss'].append(avg_train_loss)\n",
        "\n",
        "        # Validation\n",
        "        model.eval()\n",
        "        val_loss = 0.0\n",
        "        correct, total = 0, 0\n",
        "        val_predictions, val_targets = [], []\n",
        "        with torch.no_grad():\n",
        "            for inputs, labels in val_loader:\n",
        "                inputs, labels = inputs.to(device), labels.to(device)\n",
        "                outputs = model(inputs)\n",
        "                loss = criterion(outputs, labels)\n",
        "                val_loss += loss.item()\n",
        "                _, preds = torch.max(outputs, 1)\n",
        "                correct += (preds == labels).sum().item()\n",
        "                total += labels.size(0)\n",
        "                val_predictions.extend(preds.cpu().numpy())\n",
        "                val_targets.extend(labels.cpu().numpy())\n",
        "\n",
        "        avg_val_loss = val_loss / len(val_loader)\n",
        "        val_accuracy = correct / total\n",
        "        f1 = f1_score(val_targets, val_predictions, average=\"weighted\")\n",
        "\n",
        "        history['val_loss'].append(avg_val_loss)\n",
        "        history['val_accuracy'].append(val_accuracy)\n",
        "        history['val_f1'].append(f1)\n",
        "\n",
        "        print(f\"Epoch {epoch+1}/{epochs} - Train Loss: {avg_train_loss:.4f}, \"\n",
        "              f\"Val Loss: {avg_val_loss:.4f}, Val Accuracy: {val_accuracy:.4f}, Val F1-Score: {f1:.4f}\")\n",
        "\n",
        "        if f1 > best_f1:\n",
        "            best_f1 = f1\n",
        "            torch.save(model.state_dict(), best_model_path)\n",
        "            no_improvement = 0\n",
        "        else:\n",
        "            no_improvement += 1\n",
        "\n",
        "        if no_improvement >= patience:\n",
        "            print(f\"Early stopping at epoch {epoch+1}\")\n",
        "            break\n",
        "\n",
        "    model.load_state_dict(torch.load(best_model_path, weights_only=True))\n",
        "    print(f\"Best Validation F1-Score: {best_f1:.4f}\")\n",
        "    return history\n",
        "\n",
        "\n",
        "history = train_model(model, train_loader, val_loader, criterion, optimizer, epochs=10, patience=5)\n"
      ]
    },
    {
      "cell_type": "markdown",
      "source": [
        "W trakcie treningu modelu ResNet18 na przestrzeni 10 epok, model wykazał postępową poprawę w dokładności i wyniku F1 na zestawie walidacyjnym, zaczynając od niższych wartości w pierwszej epoce. Strata treningowa stopniowo malała, co sugeruje skuteczne uczenie się, mimo obserwowanych fluktuacji w wynikach walidacji. Najlepszy wynik F1, osiągnięty w ósmej epoce, wyniósł 0.5700, co wskazuje na najwyższą zdolność modelu do generalizacji w trakcie całego procesu treningu."
      ],
      "metadata": {
        "id": "ZnFVujKRNPR3"
      },
      "id": "ZnFVujKRNPR3"
    },
    {
      "cell_type": "markdown",
      "source": [
        "# 7. Ewaluacja modelu ResNet18 na zestawie testowym\n",
        " Funkcja test_model ocenia model na zestawie testowym, przechodząc przez dane bez aktualizacji wag. Wykorzystuje softmax do obliczania prawdopodobieństw klasyfikacji, z którego ekstrahuje przewidywania i prawdziwe etykiety. Na koniec oblicza ważony wynik F1 i AUC dla oceny dokładności modelu w klasyfikacji wieloklasowej.\n",
        "\n",
        "Dodatkowo, funkcja generuje raport klasyfikacji i macierz pomyłek, które dostarczają szczegółowych informacji o wynikach dla każdej klasy, ułatwiając analizę i zrozumienie wydajności modelu."
      ],
      "metadata": {
        "id": "XfnYVB_aitoH"
      },
      "id": "XfnYVB_aitoH"
    },
    {
      "cell_type": "code",
      "execution_count": 11,
      "id": "4ad75eaeb0fdfa41",
      "metadata": {
        "id": "4ad75eaeb0fdfa41",
        "colab": {
          "base_uri": "https://localhost:8080/"
        },
        "outputId": "9b701044-ab56-4347-9f2c-fe1eab924465"
      },
      "outputs": [
        {
          "output_type": "stream",
          "name": "stderr",
          "text": [
            "Testing: 100%|██████████| 26/26 [00:17<00:00,  1.51batch/s]"
          ]
        },
        {
          "output_type": "stream",
          "name": "stdout",
          "text": [
            "Test F1-Score: 0.5640, Test AUC: 0.9810\n"
          ]
        },
        {
          "output_type": "stream",
          "name": "stderr",
          "text": [
            "\n"
          ]
        }
      ],
      "source": [
        "def test_model(model, test_loader):\n",
        "    model.eval()\n",
        "    all_predictions, all_targets = [], []\n",
        "    all_probabilities = []\n",
        "\n",
        "    with torch.no_grad():\n",
        "        for inputs, labels in tqdm(test_loader, desc=\"Testing\", unit=\"batch\"):\n",
        "            inputs, labels = inputs.to(device), labels.to(device)\n",
        "            outputs = model(inputs)\n",
        "            probs = torch.softmax(outputs, dim=1)\n",
        "            _, preds = torch.max(outputs, 1)\n",
        "\n",
        "            all_predictions.extend(preds.cpu().numpy())\n",
        "            all_targets.extend(labels.cpu().numpy())\n",
        "            all_probabilities.extend(probs.cpu().numpy())\n",
        "\n",
        "\n",
        "    f1 = f1_score(all_targets, all_predictions, average=\"weighted\")\n",
        "\n",
        "\n",
        "    n_classes = len(test_loader.dataset.dataset.classes)\n",
        "    all_targets_one_hot = torch.nn.functional.one_hot(\n",
        "        torch.tensor(all_targets), num_classes=n_classes\n",
        "    ).numpy()\n",
        "\n",
        "\n",
        "    auc = roc_auc_score(\n",
        "        y_true=all_targets_one_hot,\n",
        "        y_score=all_probabilities,\n",
        "        multi_class=\"ovr\",\n",
        "        average=\"weighted\"\n",
        "    )\n",
        "\n",
        "    class_names = test_loader.dataset.dataset.classes\n",
        "    report = classification_report(\n",
        "        all_targets,\n",
        "        all_predictions,\n",
        "        target_names=class_names,\n",
        "        output_dict=True\n",
        "    )\n",
        "\n",
        "    report_df = pd.DataFrame(report).transpose()\n",
        "\n",
        "    confusion = confusion_matrix(all_targets, all_predictions)\n",
        "    confusion_df = pd.DataFrame(confusion, index=class_names, columns=class_names)\n",
        "\n",
        "    print(f\"Test F1-Score: {f1:.4f}, Test AUC: {auc:.4f}\")\n",
        "\n",
        "    return f1, auc, report_df, confusion_df\n",
        "\n",
        "f1, auc, report_df, confusion_df = test_model(model, test_loader)\n"
      ]
    },
    {
      "cell_type": "markdown",
      "source": [
        "Wizualizacja historii treningu modelu"
      ],
      "metadata": {
        "id": "cGpusX3FjEqU"
      },
      "id": "cGpusX3FjEqU"
    },
    {
      "cell_type": "code",
      "execution_count": 12,
      "id": "6b81e18545e0fefb",
      "metadata": {
        "colab": {
          "base_uri": "https://localhost:8080/",
          "height": 507
        },
        "id": "6b81e18545e0fefb",
        "outputId": "dd7d8019-bb5e-468f-d94c-1ee6002cc2c6"
      },
      "outputs": [
        {
          "output_type": "display_data",
          "data": {
            "text/plain": [
              "<Figure size 1200x500 with 2 Axes>"
            ],
            "image/png": "[encoded data removed]"
          },
          "metadata": {}
        }
      ],
      "source": [
        "\n",
        "def plot_training_history(history):\n",
        "    plt.figure(figsize=(12, 5))\n",
        "\n",
        "    plt.subplot(1, 2, 1)\n",
        "    plt.plot(history['train_loss'], label='Train Loss', color='blue', linewidth=1)\n",
        "    plt.plot(history['val_loss'], label='Validation Loss', color='red', linewidth=1)\n",
        "\n",
        "    plt.title('Training Loss Over Epochs')\n",
        "    plt.xlabel('Epochs')\n",
        "    plt.ylabel('Loss')\n",
        "    plt.legend()\n",
        "    plt.grid()\n",
        "\n",
        "\n",
        "    plt.subplot(1, 2, 2)\n",
        "    plt.plot(history['val_f1'], label='Validation F1-Score', color='green', linewidth=2)\n",
        "    plt.title('Validation F1-Score Over Epochs')\n",
        "    plt.xlabel('Epochs')\n",
        "    plt.ylabel('F1-Score')\n",
        "    plt.legend()\n",
        "    plt.grid()\n",
        "\n",
        "    plt.tight_layout()\n",
        "    plt.show()\n",
        "\n",
        "plot_training_history(history)"
      ]
    },
    {
      "cell_type": "code",
      "execution_count": 13,
      "id": "d7f0fa5477a621c5",
      "metadata": {
        "id": "d7f0fa5477a621c5",
        "colab": {
          "base_uri": "https://localhost:8080/",
          "height": 423
        },
        "outputId": "1411d4d8-66f3-48d6-acf7-10bbff8a5647"
      },
      "outputs": [
        {
          "output_type": "execute_result",
          "data": {
            "text/plain": [
              "                               precision    recall  f1-score      support\n",
              "n02085620-Chihuahua             0.357143  0.370370  0.363636    27.000000\n",
              "n02085782-Japanese_spaniel      0.758621  0.846154  0.800000    26.000000\n",
              "n02085936-Maltese_dog           0.560976  0.575000  0.567901    40.000000\n",
              "n02086079-Pekinese              0.478261  0.578947  0.523810    19.000000\n",
              "n02086240-Shih-Tzu              0.666667  0.484848  0.561404    33.000000\n",
              "...                                  ...       ...       ...          ...\n",
              "n02116738-African_hunting_dog   0.923077  0.631579  0.750000    19.000000\n",
              "wolf                            0.895833  0.781818  0.834951   165.000000\n",
              "accuracy                        0.559914  0.559914  0.559914     0.559914\n",
              "macro avg                       0.597463  0.553488  0.549747  3238.000000\n",
              "weighted avg                    0.617337  0.559914  0.563973  3238.000000\n",
              "\n",
              "[124 rows x 4 columns]"
            ],
            "text/html": [
              "\n",
              "  <div id=\"df-ef0db949-5454-43a3-9198-00bb018dc2fb\" class=\"colab-df-container\">\n",
              "    <div>\n",
              "<style scoped>\n",
              "    .dataframe tbody tr th:only-of-type {\n",
              "        vertical-align: middle;\n",
              "    }\n",
              "\n",
              "    .dataframe tbody tr th {\n",
              "        vertical-align: top;\n",
              "    }\n",
              "\n",
              "    .dataframe thead th {\n",
              "        text-align: right;\n",
              "    }\n",
              "</style>\n",
              "<table border=\"1\" class=\"dataframe\">\n",
              "  <thead>\n",
              "    <tr style=\"text-align: right;\">\n",
              "      <th></th>\n",
              "      <th>precision</th>\n",
              "      <th>recall</th>\n",
              "      <th>f1-score</th>\n",
              "      <th>support</th>\n",
              "    </tr>\n",
              "  </thead>\n",
              "  <tbody>\n",
              "    <tr>\n",
              "      <th>n02085620-Chihuahua</th>\n",
              "      <td>0.357143</td>\n",
              "      <td>0.370370</td>\n",
              "      <td>0.363636</td>\n",
              "      <td>27.000000</td>\n",
              "    </tr>\n",
              "    <tr>\n",
              "      <th>n02085782-Japanese_spaniel</th>\n",
              "      <td>0.758621</td>\n",
              "      <td>0.846154</td>\n",
              "      <td>0.800000</td>\n",
              "      <td>26.000000</td>\n",
              "    </tr>\n",
              "    <tr>\n",
              "      <th>n02085936-Maltese_dog</th>\n",
              "      <td>0.560976</td>\n",
              "      <td>0.575000</td>\n",
              "      <td>0.567901</td>\n",
              "      <td>40.000000</td>\n",
              "    </tr>\n",
              "    <tr>\n",
              "      <th>n02086079-Pekinese</th>\n",
              "      <td>0.478261</td>\n",
              "      <td>0.578947</td>\n",
              "      <td>0.523810</td>\n",
              "      <td>19.000000</td>\n",
              "    </tr>\n",
              "    <tr>\n",
              "      <th>n02086240-Shih-Tzu</th>\n",
              "      <td>0.666667</td>\n",
              "      <td>0.484848</td>\n",
              "      <td>0.561404</td>\n",
              "      <td>33.000000</td>\n",
              "    </tr>\n",
              "    <tr>\n",
              "      <th>...</th>\n",
              "      <td>...</td>\n",
              "      <td>...</td>\n",
              "      <td>...</td>\n",
              "      <td>...</td>\n",
              "    </tr>\n",
              "    <tr>\n",
              "      <th>n02116738-African_hunting_dog</th>\n",
              "      <td>0.923077</td>\n",
              "      <td>0.631579</td>\n",
              "      <td>0.750000</td>\n",
              "      <td>19.000000</td>\n",
              "    </tr>\n",
              "    <tr>\n",
              "      <th>wolf</th>\n",
              "      <td>0.895833</td>\n",
              "      <td>0.781818</td>\n",
              "      <td>0.834951</td>\n",
              "      <td>165.000000</td>\n",
              "    </tr>\n",
              "    <tr>\n",
              "      <th>accuracy</th>\n",
              "      <td>0.559914</td>\n",
              "      <td>0.559914</td>\n",
              "      <td>0.559914</td>\n",
              "      <td>0.559914</td>\n",
              "    </tr>\n",
              "    <tr>\n",
              "      <th>macro avg</th>\n",
              "      <td>0.597463</td>\n",
              "      <td>0.553488</td>\n",
              "      <td>0.549747</td>\n",
              "      <td>3238.000000</td>\n",
              "    </tr>\n",
              "    <tr>\n",
              "      <th>weighted avg</th>\n",
              "      <td>0.617337</td>\n",
              "      <td>0.559914</td>\n",
              "      <td>0.563973</td>\n",
              "      <td>3238.000000</td>\n",
              "    </tr>\n",
              "  </tbody>\n",
              "</table>\n",
              "<p>124 rows × 4 columns</p>\n",
              "</div>\n",
              "    <div class=\"colab-df-buttons\">\n",
              "\n",
              "  <div class=\"colab-df-container\">\n",
              "    <button class=\"colab-df-convert\" onclick=\"convertToInteractive('df-ef0db949-5454-43a3-9198-00bb018dc2fb')\"\n",
              "            title=\"Convert this dataframe to an interactive table.\"\n",
              "            style=\"display:none;\">\n",
              "\n",
              "  <svg xmlns=\"http://www.w3.org/2000/svg\" height=\"24px\" viewBox=\"0 -960 960 960\">\n",
              "    <path d=\"M120-120v-720h720v720H120Zm60-500h600v-160H180v160Zm220 220h160v-160H400v160Zm0 220h160v-160H400v160ZM180-400h160v-160H180v160Zm440 0h160v-160H620v160ZM180-180h160v-160H180v160Zm440 0h160v-160H620v160Z\"/>\n",
              "  </svg>\n",
              "    </button>\n",
              "\n",
              "  <style>\n",
              "    .colab-df-container {\n",
              "      display:flex;\n",
              "      gap: 12px;\n",
              "    }\n",
              "\n",
              "    .colab-df-convert {\n",
              "      background-color: #E8F0FE;\n",
              "      border: none;\n",
              "      border-radius: 50%;\n",
              "      cursor: pointer;\n",
              "      display: none;\n",
              "      fill: #1967D2;\n",
              "      height: 32px;\n",
              "      padding: 0 0 0 0;\n",
              "      width: 32px;\n",
              "    }\n",
              "\n",
              "    .colab-df-convert:hover {\n",
              "      background-color: #E2EBFA;\n",
              "      box-shadow: 0px 1px 2px rgba(60, 64, 67, 0.3), 0px 1px 3px 1px rgba(60, 64, 67, 0.15);\n",
              "      fill: #174EA6;\n",
              "    }\n",
              "\n",
              "    .colab-df-buttons div {\n",
              "      margin-bottom: 4px;\n",
              "    }\n",
              "\n",
              "    [theme=dark] .colab-df-convert {\n",
              "      background-color: #3B4455;\n",
              "      fill: #D2E3FC;\n",
              "    }\n",
              "\n",
              "    [theme=dark] .colab-df-convert:hover {\n",
              "      background-color: #434B5C;\n",
              "      box-shadow: 0px 1px 3px 1px rgba(0, 0, 0, 0.15);\n",
              "      filter: drop-shadow(0px 1px 2px rgba(0, 0, 0, 0.3));\n",
              "      fill: #FFFFFF;\n",
              "    }\n",
              "  </style>\n",
              "\n",
              "    <script>\n",
              "      const buttonEl =\n",
              "        document.querySelector('#df-ef0db949-5454-43a3-9198-00bb018dc2fb button.colab-df-convert');\n",
              "      buttonEl.style.display =\n",
              "        google.colab.kernel.accessAllowed ? 'block' : 'none';\n",
              "\n",
              "      async function convertToInteractive(key) {\n",
              "        const element = document.querySelector('#df-ef0db949-5454-43a3-9198-00bb018dc2fb');\n",
              "        const dataTable =\n",
              "          await google.colab.kernel.invokeFunction('convertToInteractive',\n",
              "                                                    [key], {});\n",
              "        if (!dataTable) return;\n",
              "\n",
              "        const docLinkHtml = 'Like what you see? Visit the ' +\n",
              "          '<a target=\"_blank\" href=https://colab.research.google.com/notebooks/data_table.ipynb>data table notebook</a>'\n",
              "          + ' to learn more about interactive tables.';\n",
              "        element.innerHTML = '';\n",
              "        dataTable['output_type'] = 'display_data';\n",
              "        await google.colab.output.renderOutput(dataTable, element);\n",
              "        const docLink = document.createElement('div');\n",
              "        docLink.innerHTML = docLinkHtml;\n",
              "        element.appendChild(docLink);\n",
              "      }\n",
              "    </script>\n",
              "  </div>\n",
              "\n",
              "\n",
              "<div id=\"df-b9a63b9d-c79a-465b-bb8d-55e848445835\">\n",
              "  <button class=\"colab-df-quickchart\" onclick=\"quickchart('df-b9a63b9d-c79a-465b-bb8d-55e848445835')\"\n",
              "            title=\"Suggest charts\"\n",
              "            style=\"display:none;\">\n",
              "\n",
              "<svg xmlns=\"http://www.w3.org/2000/svg\" height=\"24px\"viewBox=\"0 0 24 24\"\n",
              "     width=\"24px\">\n",
              "    <g>\n",
              "        <path d=\"M19 3H5c-1.1 0-2 .9-2 2v14c0 1.1.9 2 2 2h14c1.1 0 2-.9 2-2V5c0-1.1-.9-2-2-2zM9 17H7v-7h2v7zm4 0h-2V7h2v10zm4 0h-2v-4h2v4z\"/>\n",
              "    </g>\n",
              "</svg>\n",
              "  </button>\n",
              "\n",
              "<style>\n",
              "  .colab-df-quickchart {\n",
              "      --bg-color: #E8F0FE;\n",
              "      --fill-color: #1967D2;\n",
              "      --hover-bg-color: #E2EBFA;\n",
              "      --hover-fill-color: #174EA6;\n",
              "      --disabled-fill-color: #AAA;\n",
              "      --disabled-bg-color: #DDD;\n",
              "  }\n",
              "\n",
              "  [theme=dark] .colab-df-quickchart {\n",
              "      --bg-color: #3B4455;\n",
              "      --fill-color: #D2E3FC;\n",
              "      --hover-bg-color: #434B5C;\n",
              "      --hover-fill-color: #FFFFFF;\n",
              "      --disabled-bg-color: #3B4455;\n",
              "      --disabled-fill-color: #666;\n",
              "  }\n",
              "\n",
              "  .colab-df-quickchart {\n",
              "    background-color: var(--bg-color);\n",
              "    border: none;\n",
              "    border-radius: 50%;\n",
              "    cursor: pointer;\n",
              "    display: none;\n",
              "    fill: var(--fill-color);\n",
              "    height: 32px;\n",
              "    padding: 0;\n",
              "    width: 32px;\n",
              "  }\n",
              "\n",
              "  .colab-df-quickchart:hover {\n",
              "    background-color: var(--hover-bg-color);\n",
              "    box-shadow: 0 1px 2px rgba(60, 64, 67, 0.3), 0 1px 3px 1px rgba(60, 64, 67, 0.15);\n",
              "    fill: var(--button-hover-fill-color);\n",
              "  }\n",
              "\n",
              "  .colab-df-quickchart-complete:disabled,\n",
              "  .colab-df-quickchart-complete:disabled:hover {\n",
              "    background-color: var(--disabled-bg-color);\n",
              "    fill: var(--disabled-fill-color);\n",
              "    box-shadow: none;\n",
              "  }\n",
              "\n",
              "  .colab-df-spinner {\n",
              "    border: 2px solid var(--fill-color);\n",
              "    border-color: transparent;\n",
              "    border-bottom-color: var(--fill-color);\n",
              "    animation:\n",
              "      spin 1s steps(1) infinite;\n",
              "  }\n",
              "\n",
              "  @keyframes spin {\n",
              "    0% {\n",
              "      border-color: transparent;\n",
              "      border-bottom-color: var(--fill-color);\n",
              "      border-left-color: var(--fill-color);\n",
              "    }\n",
              "    20% {\n",
              "      border-color: transparent;\n",
              "      border-left-color: var(--fill-color);\n",
              "      border-top-color: var(--fill-color);\n",
              "    }\n",
              "    30% {\n",
              "      border-color: transparent;\n",
              "      border-left-color: var(--fill-color);\n",
              "      border-top-color: var(--fill-color);\n",
              "      border-right-color: var(--fill-color);\n",
              "    }\n",
              "    40% {\n",
              "      border-color: transparent;\n",
              "      border-right-color: var(--fill-color);\n",
              "      border-top-color: var(--fill-color);\n",
              "    }\n",
              "    60% {\n",
              "      border-color: transparent;\n",
              "      border-right-color: var(--fill-color);\n",
              "    }\n",
              "    80% {\n",
              "      border-color: transparent;\n",
              "      border-right-color: var(--fill-color);\n",
              "      border-bottom-color: var(--fill-color);\n",
              "    }\n",
              "    90% {\n",
              "      border-color: transparent;\n",
              "      border-bottom-color: var(--fill-color);\n",
              "    }\n",
              "  }\n",
              "</style>\n",
              "\n",
              "  <script>\n",
              "    async function quickchart(key) {\n",
              "      const quickchartButtonEl =\n",
              "        document.querySelector('#' + key + ' button');\n",
              "      quickchartButtonEl.disabled = true;  // To prevent multiple clicks.\n",
              "      quickchartButtonEl.classList.add('colab-df-spinner');\n",
              "      try {\n",
              "        const charts = await google.colab.kernel.invokeFunction(\n",
              "            'suggestCharts', [key], {});\n",
              "      } catch (error) {\n",
              "        console.error('Error during call to suggestCharts:', error);\n",
              "      }\n",
              "      quickchartButtonEl.classList.remove('colab-df-spinner');\n",
              "      quickchartButtonEl.classList.add('colab-df-quickchart-complete');\n",
              "    }\n",
              "    (() => {\n",
              "      let quickchartButtonEl =\n",
              "        document.querySelector('#df-b9a63b9d-c79a-465b-bb8d-55e848445835 button');\n",
              "      quickchartButtonEl.style.display =\n",
              "        google.colab.kernel.accessAllowed ? 'block' : 'none';\n",
              "    })();\n",
              "  </script>\n",
              "</div>\n",
              "\n",
              "  <div id=\"id_2f061e03-06e1-4122-9d4b-431a631d1f44\">\n",
              "    <style>\n",
              "      .colab-df-generate {\n",
              "        background-color: #E8F0FE;\n",
              "        border: none;\n",
              "        border-radius: 50%;\n",
              "        cursor: pointer;\n",
              "        display: none;\n",
              "        fill: #1967D2;\n",
              "        height: 32px;\n",
              "        padding: 0 0 0 0;\n",
              "        width: 32px;\n",
              "      }\n",
              "\n",
              "      .colab-df-generate:hover {\n",
              "        background-color: #E2EBFA;\n",
              "        box-shadow: 0px 1px 2px rgba(60, 64, 67, 0.3), 0px 1px 3px 1px rgba(60, 64, 67, 0.15);\n",
              "        fill: #174EA6;\n",
              "      }\n",
              "\n",
              "      [theme=dark] .colab-df-generate {\n",
              "        background-color: #3B4455;\n",
              "        fill: #D2E3FC;\n",
              "      }\n",
              "\n",
              "      [theme=dark] .colab-df-generate:hover {\n",
              "        background-color: #434B5C;\n",
              "        box-shadow: 0px 1px 3px 1px rgba(0, 0, 0, 0.15);\n",
              "        filter: drop-shadow(0px 1px 2px rgba(0, 0, 0, 0.3));\n",
              "        fill: #FFFFFF;\n",
              "      }\n",
              "    </style>\n",
              "    <button class=\"colab-df-generate\" onclick=\"generateWithVariable('report_df')\"\n",
              "            title=\"Generate code using this dataframe.\"\n",
              "            style=\"display:none;\">\n",
              "\n",
              "  <svg xmlns=\"http://www.w3.org/2000/svg\" height=\"24px\"viewBox=\"0 0 24 24\"\n",
              "       width=\"24px\">\n",
              "    <path d=\"M7,19H8.4L18.45,9,17,7.55,7,17.6ZM5,21V16.75L18.45,3.32a2,2,0,0,1,2.83,0l1.4,1.43a1.91,1.91,0,0,1,.58,1.4,1.91,1.91,0,0,1-.58,1.4L9.25,21ZM18.45,9,17,7.55Zm-12,3A5.31,5.31,0,0,0,4.9,8.1,5.31,5.31,0,0,0,1,6.5,5.31,5.31,0,0,0,4.9,4.9,5.31,5.31,0,0,0,6.5,1,5.31,5.31,0,0,0,8.1,4.9,5.31,5.31,0,0,0,12,6.5,5.46,5.46,0,0,0,6.5,12Z\"/>\n",
              "  </svg>\n",
              "    </button>\n",
              "    <script>\n",
              "      (() => {\n",
              "      const buttonEl =\n",
              "        document.querySelector('#id_2f061e03-06e1-4122-9d4b-431a631d1f44 button.colab-df-generate');\n",
              "      buttonEl.style.display =\n",
              "        google.colab.kernel.accessAllowed ? 'block' : 'none';\n",
              "\n",
              "      buttonEl.onclick = () => {\n",
              "        google.colab.notebook.generateWithVariable('report_df');\n",
              "      }\n",
              "      })();\n",
              "    </script>\n",
              "  </div>\n",
              "\n",
              "    </div>\n",
              "  </div>\n"
            ],
            "application/vnd.google.colaboratory.intrinsic+json": {
              "type": "dataframe",
              "variable_name": "report_df",
              "summary": "{\n  \"name\": \"report_df\",\n  \"rows\": 124,\n  \"fields\": [\n    {\n      \"column\": \"precision\",\n      \"properties\": {\n        \"dtype\": \"number\",\n        \"std\": 0.19804154855402964,\n        \"min\": 0.14705882352941177,\n        \"max\": 1.0,\n        \"num_unique_values\": 91,\n        \"samples\": [\n          0.8181818181818182,\n          0.5476190476190477,\n          0.68\n        ],\n        \"semantic_type\": \"\",\n        \"description\": \"\"\n      }\n    },\n    {\n      \"column\": \"recall\",\n      \"properties\": {\n        \"dtype\": \"number\",\n        \"std\": 0.17547577064829262,\n        \"min\": 0.13043478260869565,\n        \"max\": 0.9230769230769231,\n        \"num_unique_values\": 97,\n        \"samples\": [\n          0.6538461538461539,\n          0.375,\n          0.20833333333333334\n        ],\n        \"semantic_type\": \"\",\n        \"description\": \"\"\n      }\n    },\n    {\n      \"column\": \"f1-score\",\n      \"properties\": {\n        \"dtype\": \"number\",\n        \"std\": 0.1469531229564387,\n        \"min\": 0.18181818181818182,\n        \"max\": 0.8936170212765957,\n        \"num_unique_values\": 104,\n        \"samples\": [\n          0.5714285714285714,\n          0.84,\n          0.5333333333333333\n        ],\n        \"semantic_type\": \"\",\n        \"description\": \"\"\n      }\n    },\n    {\n      \"column\": \"support\",\n      \"properties\": {\n        \"dtype\": \"number\",\n        \"std\": 406.429189218087,\n        \"min\": 0.5599135268684373,\n        \"max\": 3238.0,\n        \"num_unique_values\": 29,\n        \"samples\": [\n          0.5599135268684373,\n          30.0,\n          22.0\n        ],\n        \"semantic_type\": \"\",\n        \"description\": \"\"\n      }\n    }\n  ]\n}"
            }
          },
          "metadata": {},
          "execution_count": 13
        }
      ],
      "source": [
        "report_df"
      ]
    }
  ],
  "metadata": {
    "accelerator": "GPU",
    "colab": {
      "gpuType": "T4",
      "provenance": []
    },
    "kernelspec": {
      "display_name": "Python 3",
      "name": "python3"
    },
    "language_info": {
      "codemirror_mode": {
        "name": "ipython",
        "version": 3
      },
      "file_extension": ".py",
      "mimetype": "text/x-python",
      "name": "python",
      "nbconvert_exporter": "python",
      "pygments_lexer": "ipython3",
      "version": "3.12.2"
    }
  },
  "nbformat": 4,
  "nbformat_minor": 5
}
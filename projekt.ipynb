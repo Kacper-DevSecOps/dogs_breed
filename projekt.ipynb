{
 "cells": [
  {
   "metadata": {
    "ExecuteTime": {
     "end_time": "2024-12-04T14:29:59.639315Z",
     "start_time": "2024-12-04T14:29:59.632453Z"
    }
   },
   "cell_type": "code",
   "source": [
    "import kagglehub\n",
    "import torch\n",
    "from torch.utils.data import WeightedRandomSampler\n",
    "from torch.utils.data import DataLoader, random_split\n",
    "from torchvision.models import ResNet18_Weights\n",
    "from torch.utils.data import DataLoader\n",
    "from torchvision import datasets, transforms, models\n",
    "from sklearn.metrics import classification_report, confusion_matrix, roc_auc_score, f1_score\n",
    "from tqdm import tqdm\n",
    "import matplotlib.pyplot as plt\n",
    "import pandas as pd\n",
    "from collections import Counter"
   ],
   "id": "86e7288097673a44",
   "outputs": [],
   "execution_count": 59
  },
  {
   "metadata": {
    "ExecuteTime": {
     "end_time": "2024-12-04T14:30:00.651606Z",
     "start_time": "2024-12-04T14:29:59.950698Z"
    }
   },
   "cell_type": "code",
   "source": [
    "path_stanford_dogs = kagglehub.dataset_download(\"jessicali9530/stanford-dogs-dataset\")\n",
    "path_wolfs = kagglehub.dataset_download(\"harishvutukuri/dogs-vs-wolves\")\n",
    "\n",
    "print(\"Path to dataset files:\", path_stanford_dogs)\n",
    "print(\"Path to dataset files:\", path_wolfs)"
   ],
   "id": "72ae0bd84147765e",
   "outputs": [
    {
     "name": "stdout",
     "output_type": "stream",
     "text": [
      "Path to dataset files: C:\\Users\\Filip\\.cache\\kagglehub\\datasets\\jessicali9530\\stanford-dogs-dataset\\versions\\2\n",
      "Path to dataset files: C:\\Users\\Filip\\.cache\\kagglehub\\datasets\\harishvutukuri\\dogs-vs-wolves\\versions\\2\n"
     ]
    }
   ],
   "execution_count": 60
  },
  {
   "metadata": {
    "ExecuteTime": {
     "end_time": "2024-12-04T14:30:00.667788Z",
     "start_time": "2024-12-04T14:30:00.652607Z"
    }
   },
   "cell_type": "code",
   "source": [
    "print(torch.cuda.is_available())  \n",
    "print(torch.version.cuda)        "
   ],
   "id": "6fa0af03783da4c4",
   "outputs": [
    {
     "name": "stdout",
     "output_type": "stream",
     "text": [
      "True\n",
      "12.4\n"
     ]
    }
   ],
   "execution_count": 61
  },
  {
   "metadata": {},
   "cell_type": "markdown",
   "source": "# przeniesienie wilków do psów jako klasa (pamiętać o class imbalance)\n",
   "id": "7990dbdbaea4c422"
  },
  {
   "metadata": {
    "ExecuteTime": {
     "end_time": "2024-12-04T14:30:01.460678Z",
     "start_time": "2024-12-04T14:30:01.444135Z"
    }
   },
   "cell_type": "code",
   "source": [
    "import os\n",
    "import shutil\n",
    "\n",
    "# Directories\n",
    "base_dir = \"data\"\n",
    "dogs_dir = os.path.join(path_stanford_dogs, \"images/images\")  # Stanford Dogs 'images' folder\n",
    "wolves_dir = os.path.join(path_wolfs, \"data\", \"wolves\")  # Wolves dataset directory\n",
    "\n",
    "# Function to move wolf images into the 'images' folder\n",
    "def integrate_wolves_into_dogs(dogs_dir, wolves_dir):\n",
    "    \"\"\"\n",
    "    Moves wolf images into the 'images' directory of the dogs dataset\n",
    "    under a new folder named 'wolf'.\n",
    "    \"\"\"\n",
    "    wolf_class_dir = os.path.join(dogs_dir, \"wolf\")  # Target directory inside 'images'\n",
    "    os.makedirs(wolf_class_dir, exist_ok=True)  # Ensure 'wolf' directory exists\n",
    "\n",
    "    for file_name in os.listdir(wolves_dir):\n",
    "        src_path = os.path.join(wolves_dir, file_name)  # Full path of the source file\n",
    "        dest_path = os.path.join(wolf_class_dir, file_name)  # Full path of the destination file\n",
    "        \n",
    "        # Move files only (skip directories)\n",
    "        if os.path.isfile(src_path):\n",
    "            shutil.move(src_path, dest_path)\n",
    "    \n",
    "    print(f\"Wolves successfully moved into: {wolf_class_dir}\")\n",
    "\n",
    "# Call the function\n",
    "integrate_wolves_into_dogs(dogs_dir, wolves_dir)\n"
   ],
   "id": "4fec6d562d854d06",
   "outputs": [
    {
     "name": "stdout",
     "output_type": "stream",
     "text": [
      "Wolves successfully moved into: C:\\Users\\Filip\\.cache\\kagglehub\\datasets\\jessicali9530\\stanford-dogs-dataset\\versions\\2\\images/images\\wolf\n"
     ]
    }
   ],
   "execution_count": 62
  },
  {
   "metadata": {
    "ExecuteTime": {
     "end_time": "2024-12-04T14:30:01.965360Z",
     "start_time": "2024-12-04T14:30:01.714570Z"
    }
   },
   "cell_type": "code",
   "source": [
    "\n",
    "\n",
    "device = torch.device(\"cuda\")\n",
    "\n",
    "\n",
    "transform = transforms.Compose([\n",
    "    transforms.Resize((224, 224)),\n",
    "    transforms.ToTensor(),\n",
    "    transforms.Normalize(mean=[0.485, 0.456, 0.406], std=[0.229, 0.224, 0.225]),\n",
    "])\n",
    "\n",
    "\n",
    "def prepare_dataset(dogs_dir, transform):\n",
    "\n",
    "    dog_dataset = datasets.ImageFolder(dogs_dir, transform=transform)\n",
    "    \n",
    "\n",
    "    train_size = int(0.7 * len(dog_dataset))\n",
    "    val_size = int(0.15 * len(dog_dataset))\n",
    "    test_size = len(dog_dataset) - train_size - val_size\n",
    "    train_dataset, val_dataset, test_dataset = random_split(dog_dataset, [train_size, val_size, test_size])\n",
    "\n",
    "    return train_dataset, val_dataset, test_dataset\n",
    "\n",
    "\n",
    "\n",
    "train_dataset, val_dataset, test_dataset = prepare_dataset(dogs_dir, transform)\n",
    "\n",
    "\n",
    "\n",
    "def create_sampler(dataset):\n",
    "    all_classes = range(len(dataset.dataset.classes))  \n",
    "    class_names = dataset.dataset.classes  # Class names from ImageFolder\n",
    "\n",
    "    class_counts = Counter(dataset.dataset.targets[i] for i in dataset.indices)\n",
    "    \n",
    "    for cls in all_classes:\n",
    "        if cls not in class_counts:\n",
    "            class_counts[cls] = 0  \n",
    "    \n",
    "    class_weights = {cls: 1.0 / count for cls, count in class_counts.items()}  \n",
    "\n",
    "    sample_weights = [class_weights[dataset.dataset.targets[i]] for i in dataset.indices]\n",
    "    \n",
    "    sampler = WeightedRandomSampler(sample_weights, num_samples=len(sample_weights), replacement=True)\n",
    "    \n",
    "    weight_df = pd.DataFrame({\n",
    "        'Class': class_names,\n",
    "        'Count': [class_counts[cls] for cls in all_classes],\n",
    "        'Weight': [class_weights[cls] for cls in all_classes]\n",
    "    })\n",
    "\n",
    "    return sampler,weight_df\n",
    "\n",
    "train_sampler,classes_weights = create_sampler(train_dataset)\n",
    "train_loader = DataLoader(train_dataset, batch_size=128, sampler=train_sampler)\n",
    "val_loader = DataLoader(val_dataset, batch_size=128)\n",
    "test_loader = DataLoader(test_dataset, batch_size=128)\n"
   ],
   "id": "17ee7ebbd28b63e2",
   "outputs": [],
   "execution_count": 63
  },
  {
   "metadata": {
    "ExecuteTime": {
     "end_time": "2024-12-04T14:30:01.980912Z",
     "start_time": "2024-12-04T14:30:01.966355Z"
    }
   },
   "cell_type": "code",
   "source": "classes_weights",
   "id": "3a717eae8e5c86eb",
   "outputs": [
    {
     "data": {
      "text/plain": [
       "                             Class  Count    Weight\n",
       "0              n02085620-Chihuahua    121  0.008264\n",
       "1       n02085782-Japanese_spaniel    129  0.007752\n",
       "2            n02085936-Maltese_dog    182  0.005495\n",
       "3               n02086079-Pekinese    103  0.009709\n",
       "4               n02086240-Shih-Tzu    152  0.006579\n",
       "..                             ...    ...       ...\n",
       "116     n02113978-Mexican_hairless    100  0.010000\n",
       "117                n02115641-dingo    112  0.008929\n",
       "118                n02115913-dhole    111  0.009009\n",
       "119  n02116738-African_hunting_dog    122  0.008197\n",
       "120                           wolf    711  0.001406\n",
       "\n",
       "[121 rows x 3 columns]"
      ],
      "text/html": [
       "<div>\n",
       "<style scoped>\n",
       "    .dataframe tbody tr th:only-of-type {\n",
       "        vertical-align: middle;\n",
       "    }\n",
       "\n",
       "    .dataframe tbody tr th {\n",
       "        vertical-align: top;\n",
       "    }\n",
       "\n",
       "    .dataframe thead th {\n",
       "        text-align: right;\n",
       "    }\n",
       "</style>\n",
       "<table border=\"1\" class=\"dataframe\">\n",
       "  <thead>\n",
       "    <tr style=\"text-align: right;\">\n",
       "      <th></th>\n",
       "      <th>Class</th>\n",
       "      <th>Count</th>\n",
       "      <th>Weight</th>\n",
       "    </tr>\n",
       "  </thead>\n",
       "  <tbody>\n",
       "    <tr>\n",
       "      <th>0</th>\n",
       "      <td>n02085620-Chihuahua</td>\n",
       "      <td>121</td>\n",
       "      <td>0.008264</td>\n",
       "    </tr>\n",
       "    <tr>\n",
       "      <th>1</th>\n",
       "      <td>n02085782-Japanese_spaniel</td>\n",
       "      <td>129</td>\n",
       "      <td>0.007752</td>\n",
       "    </tr>\n",
       "    <tr>\n",
       "      <th>2</th>\n",
       "      <td>n02085936-Maltese_dog</td>\n",
       "      <td>182</td>\n",
       "      <td>0.005495</td>\n",
       "    </tr>\n",
       "    <tr>\n",
       "      <th>3</th>\n",
       "      <td>n02086079-Pekinese</td>\n",
       "      <td>103</td>\n",
       "      <td>0.009709</td>\n",
       "    </tr>\n",
       "    <tr>\n",
       "      <th>4</th>\n",
       "      <td>n02086240-Shih-Tzu</td>\n",
       "      <td>152</td>\n",
       "      <td>0.006579</td>\n",
       "    </tr>\n",
       "    <tr>\n",
       "      <th>...</th>\n",
       "      <td>...</td>\n",
       "      <td>...</td>\n",
       "      <td>...</td>\n",
       "    </tr>\n",
       "    <tr>\n",
       "      <th>116</th>\n",
       "      <td>n02113978-Mexican_hairless</td>\n",
       "      <td>100</td>\n",
       "      <td>0.010000</td>\n",
       "    </tr>\n",
       "    <tr>\n",
       "      <th>117</th>\n",
       "      <td>n02115641-dingo</td>\n",
       "      <td>112</td>\n",
       "      <td>0.008929</td>\n",
       "    </tr>\n",
       "    <tr>\n",
       "      <th>118</th>\n",
       "      <td>n02115913-dhole</td>\n",
       "      <td>111</td>\n",
       "      <td>0.009009</td>\n",
       "    </tr>\n",
       "    <tr>\n",
       "      <th>119</th>\n",
       "      <td>n02116738-African_hunting_dog</td>\n",
       "      <td>122</td>\n",
       "      <td>0.008197</td>\n",
       "    </tr>\n",
       "    <tr>\n",
       "      <th>120</th>\n",
       "      <td>wolf</td>\n",
       "      <td>711</td>\n",
       "      <td>0.001406</td>\n",
       "    </tr>\n",
       "  </tbody>\n",
       "</table>\n",
       "<p>121 rows × 3 columns</p>\n",
       "</div>"
      ]
     },
     "execution_count": 64,
     "metadata": {},
     "output_type": "execute_result"
    }
   ],
   "execution_count": 64
  },
  {
   "cell_type": "code",
   "id": "initial_id",
   "metadata": {
    "collapsed": true,
    "ExecuteTime": {
     "end_time": "2024-12-04T14:39:28.219124Z",
     "start_time": "2024-12-04T14:30:02.059482Z"
    }
   },
   "source": [
    "\n",
    "\n",
    "model = models.resnet18(weights=ResNet18_Weights.DEFAULT)\n",
    "num_classes = len(train_dataset.dataset.classes) \n",
    "model.fc = torch.nn.Linear(model.fc.in_features, num_classes)\n",
    "model = model.to(device)\n",
    "\n",
    "\n",
    "criterion = torch.nn.CrossEntropyLoss()\n",
    "optimizer = torch.optim.Adam(model.parameters(), lr=0.001)\n",
    "\n",
    "\n",
    "def train_model(model, train_loader, val_loader, criterion, optimizer, epochs=20, patience=5):\n",
    "    history = {\n",
    "        'train_loss': [],\n",
    "        'val_loss': [],\n",
    "        'val_accuracy': [],\n",
    "        'val_f1': []\n",
    "    }\n",
    "    best_f1 = 0.0\n",
    "    no_improvement = 0\n",
    "    best_model_path = \"best_model.pth\"\n",
    "\n",
    "    for epoch in range(epochs):\n",
    "        model.train()\n",
    "        running_loss = 0.0\n",
    "        train_loop = tqdm(train_loader, desc=f\"Epoch {epoch+1}/{epochs}\", unit=\"batch\")\n",
    "        \n",
    "        for inputs, labels in train_loop:\n",
    "            inputs, labels = inputs.to(device), labels.to(device)\n",
    "            optimizer.zero_grad()\n",
    "            outputs = model(inputs)\n",
    "            loss = criterion(outputs, labels)\n",
    "            loss.backward()\n",
    "            optimizer.step()\n",
    "            running_loss += loss.item()\n",
    "            train_loop.set_postfix(loss=loss.item())\n",
    "\n",
    "        avg_train_loss = running_loss / len(train_loader)\n",
    "        history['train_loss'].append(avg_train_loss)\n",
    "\n",
    "        # Validation\n",
    "        model.eval()\n",
    "        val_loss = 0.0\n",
    "        correct, total = 0, 0\n",
    "        val_predictions, val_targets = [], []\n",
    "        with torch.no_grad():\n",
    "            for inputs, labels in val_loader:\n",
    "                inputs, labels = inputs.to(device), labels.to(device)\n",
    "                outputs = model(inputs)\n",
    "                loss = criterion(outputs, labels)\n",
    "                val_loss += loss.item()\n",
    "                _, preds = torch.max(outputs, 1)\n",
    "                correct += (preds == labels).sum().item()\n",
    "                total += labels.size(0)\n",
    "                val_predictions.extend(preds.cpu().numpy())\n",
    "                val_targets.extend(labels.cpu().numpy())\n",
    "\n",
    "        avg_val_loss = val_loss / len(val_loader)\n",
    "        val_accuracy = correct / total\n",
    "        f1 = f1_score(val_targets, val_predictions, average=\"weighted\")\n",
    "\n",
    "        history['val_loss'].append(avg_val_loss)\n",
    "        history['val_accuracy'].append(val_accuracy)\n",
    "        history['val_f1'].append(f1)\n",
    "\n",
    "        print(f\"Epoch {epoch+1}/{epochs} - Train Loss: {avg_train_loss:.4f}, \"\n",
    "              f\"Val Loss: {avg_val_loss:.4f}, Val Accuracy: {val_accuracy:.4f}, Val F1-Score: {f1:.4f}\")\n",
    "\n",
    "        if f1 > best_f1:\n",
    "            best_f1 = f1\n",
    "            torch.save(model.state_dict(), best_model_path)\n",
    "            no_improvement = 0\n",
    "        else:\n",
    "            no_improvement += 1\n",
    "\n",
    "        if no_improvement >= patience:\n",
    "            print(f\"Early stopping at epoch {epoch+1}\")\n",
    "            break\n",
    "\n",
    "    model.load_state_dict(torch.load(best_model_path, weights_only=True))\n",
    "    print(f\"Best Validation F1-Score: {best_f1:.4f}\")\n",
    "    return history\n",
    "\n",
    "\n",
    "history = train_model(model, train_loader, val_loader, criterion, optimizer, epochs=10, patience=5)\n"
   ],
   "outputs": [
    {
     "name": "stderr",
     "output_type": "stream",
     "text": [
      "Epoch 1/10: 100%|██████████| 119/119 [00:50<00:00,  2.34batch/s, loss=4.36] \n"
     ]
    },
    {
     "name": "stdout",
     "output_type": "stream",
     "text": [
      "Epoch 1/10 - Train Loss: 1.9180, Val Loss: 2.5406, Val Accuracy: 0.3475, Val F1-Score: 0.3425\n"
     ]
    },
    {
     "name": "stderr",
     "output_type": "stream",
     "text": [
      "Epoch 2/10: 100%|██████████| 119/119 [00:48<00:00,  2.45batch/s, loss=6.04] \n"
     ]
    },
    {
     "name": "stdout",
     "output_type": "stream",
     "text": [
      "Epoch 2/10 - Train Loss: 0.9097, Val Loss: 2.5112, Val Accuracy: 0.3923, Val F1-Score: 0.3802\n"
     ]
    },
    {
     "name": "stderr",
     "output_type": "stream",
     "text": [
      "Epoch 3/10: 100%|██████████| 119/119 [00:48<00:00,  2.44batch/s, loss=6.14] \n"
     ]
    },
    {
     "name": "stdout",
     "output_type": "stream",
     "text": [
      "Epoch 3/10 - Train Loss: 0.6277, Val Loss: 1.7024, Val Accuracy: 0.5385, Val F1-Score: 0.5383\n"
     ]
    },
    {
     "name": "stderr",
     "output_type": "stream",
     "text": [
      "Epoch 4/10: 100%|██████████| 119/119 [00:48<00:00,  2.44batch/s, loss=5.73] \n"
     ]
    },
    {
     "name": "stdout",
     "output_type": "stream",
     "text": [
      "Epoch 4/10 - Train Loss: 0.4235, Val Loss: 1.8041, Val Accuracy: 0.5236, Val F1-Score: 0.5219\n"
     ]
    },
    {
     "name": "stderr",
     "output_type": "stream",
     "text": [
      "Epoch 5/10: 100%|██████████| 119/119 [00:48<00:00,  2.46batch/s, loss=6.23] \n"
     ]
    },
    {
     "name": "stdout",
     "output_type": "stream",
     "text": [
      "Epoch 5/10 - Train Loss: 0.3064, Val Loss: 1.8225, Val Accuracy: 0.5388, Val F1-Score: 0.5372\n"
     ]
    },
    {
     "name": "stderr",
     "output_type": "stream",
     "text": [
      "Epoch 6/10: 100%|██████████| 119/119 [00:48<00:00,  2.45batch/s, loss=6.94]  \n"
     ]
    },
    {
     "name": "stdout",
     "output_type": "stream",
     "text": [
      "Epoch 6/10 - Train Loss: 0.2388, Val Loss: 1.9393, Val Accuracy: 0.5301, Val F1-Score: 0.5288\n"
     ]
    },
    {
     "name": "stderr",
     "output_type": "stream",
     "text": [
      "Epoch 7/10: 100%|██████████| 119/119 [00:49<00:00,  2.42batch/s, loss=7.91]  \n"
     ]
    },
    {
     "name": "stdout",
     "output_type": "stream",
     "text": [
      "Epoch 7/10 - Train Loss: 0.2012, Val Loss: 1.9338, Val Accuracy: 0.5514, Val F1-Score: 0.5455\n"
     ]
    },
    {
     "name": "stderr",
     "output_type": "stream",
     "text": [
      "Epoch 8/10: 100%|██████████| 119/119 [00:48<00:00,  2.44batch/s, loss=6.9]   \n"
     ]
    },
    {
     "name": "stdout",
     "output_type": "stream",
     "text": [
      "Epoch 8/10 - Train Loss: 0.1725, Val Loss: 2.0759, Val Accuracy: 0.5323, Val F1-Score: 0.5328\n"
     ]
    },
    {
     "name": "stderr",
     "output_type": "stream",
     "text": [
      "Epoch 9/10: 100%|██████████| 119/119 [00:48<00:00,  2.44batch/s, loss=7.49]  \n"
     ]
    },
    {
     "name": "stdout",
     "output_type": "stream",
     "text": [
      "Epoch 9/10 - Train Loss: 0.1688, Val Loss: 2.0335, Val Accuracy: 0.5545, Val F1-Score: 0.5554\n"
     ]
    },
    {
     "name": "stderr",
     "output_type": "stream",
     "text": [
      "Epoch 10/10: 100%|██████████| 119/119 [00:49<00:00,  2.43batch/s, loss=6.62]  \n"
     ]
    },
    {
     "name": "stdout",
     "output_type": "stream",
     "text": [
      "Epoch 10/10 - Train Loss: 0.2161, Val Loss: 2.3761, Val Accuracy: 0.5073, Val F1-Score: 0.5045\n",
      "Best Validation F1-Score: 0.5554\n"
     ]
    }
   ],
   "execution_count": 65
  },
  {
   "metadata": {
    "ExecuteTime": {
     "end_time": "2024-12-04T14:39:43.987872Z",
     "start_time": "2024-12-04T14:39:35.877853Z"
    }
   },
   "cell_type": "code",
   "source": [
    "def test_model(model, test_loader):\n",
    "    model.eval()\n",
    "    all_predictions, all_targets = [], []\n",
    "    all_probabilities = []\n",
    "    \n",
    "    with torch.no_grad():\n",
    "        for inputs, labels in tqdm(test_loader, desc=\"Testing\", unit=\"batch\"):\n",
    "            inputs, labels = inputs.to(device), labels.to(device)\n",
    "            outputs = model(inputs)\n",
    "            probs = torch.softmax(outputs, dim=1)  \n",
    "            _, preds = torch.max(outputs, 1)\n",
    "            \n",
    "            all_predictions.extend(preds.cpu().numpy())\n",
    "            all_targets.extend(labels.cpu().numpy())\n",
    "            all_probabilities.extend(probs.cpu().numpy())  \n",
    "\n",
    "\n",
    "    f1 = f1_score(all_targets, all_predictions, average=\"weighted\")\n",
    "\n",
    "\n",
    "    n_classes = len(test_loader.dataset.dataset.classes)\n",
    "    all_targets_one_hot = torch.nn.functional.one_hot(\n",
    "        torch.tensor(all_targets), num_classes=n_classes\n",
    "    ).numpy()\n",
    "\n",
    "\n",
    "    auc = roc_auc_score(\n",
    "        y_true=all_targets_one_hot,\n",
    "        y_score=all_probabilities,  \n",
    "        multi_class=\"ovr\",\n",
    "        average=\"weighted\"\n",
    "    )\n",
    "\n",
    "    class_names = test_loader.dataset.dataset.classes  \n",
    "    report = classification_report(\n",
    "        all_targets,\n",
    "        all_predictions,\n",
    "        target_names=class_names,\n",
    "        output_dict=True\n",
    "    )\n",
    "\n",
    "    report_df = pd.DataFrame(report).transpose()\n",
    "\n",
    "    confusion = confusion_matrix(all_targets, all_predictions)\n",
    "    confusion_df = pd.DataFrame(confusion, index=class_names, columns=class_names)\n",
    "\n",
    "    print(f\"Test F1-Score: {f1:.4f}, Test AUC: {auc:.4f}\")\n",
    "\n",
    "    return f1, auc, report_df, confusion_df\n",
    "\n",
    "f1, auc, report_df, confusion_df = test_model(model, test_loader)\n"
   ],
   "id": "4ad75eaeb0fdfa41",
   "outputs": [
    {
     "name": "stderr",
     "output_type": "stream",
     "text": [
      "Testing: 100%|██████████| 26/26 [00:08<00:00,  3.23batch/s]"
     ]
    },
    {
     "name": "stdout",
     "output_type": "stream",
     "text": [
      "Test F1-Score: 0.5583, Test AUC: 0.9792\n"
     ]
    },
    {
     "name": "stderr",
     "output_type": "stream",
     "text": [
      "\n"
     ]
    }
   ],
   "execution_count": 66
  },
  {
   "metadata": {
    "ExecuteTime": {
     "end_time": "2024-12-04T14:40:29.078027Z",
     "start_time": "2024-12-04T14:40:28.924980Z"
    }
   },
   "cell_type": "code",
   "source": [
    "\n",
    "def plot_training_history(history):\n",
    "    plt.figure(figsize=(12, 5))\n",
    "\n",
    "    plt.subplot(1, 2, 1)\n",
    "    plt.plot(history['train_loss'], label='Train Loss', color='blue', linewidth=1)\n",
    "    plt.plot(history['val_loss'], label='Validation Loss', color='red', linewidth=1)\n",
    "\n",
    "    plt.title('Training Loss Over Epochs')\n",
    "    plt.xlabel('Epochs')\n",
    "    plt.ylabel('Loss')\n",
    "    plt.legend()\n",
    "    plt.grid()\n",
    "\n",
    "\n",
    "    plt.subplot(1, 2, 2)\n",
    "    plt.plot(history['val_f1'], label='Validation F1-Score', color='green', linewidth=2)\n",
    "    plt.title('Validation F1-Score Over Epochs')\n",
    "    plt.xlabel('Epochs')\n",
    "    plt.ylabel('F1-Score')\n",
    "    plt.legend()\n",
    "    plt.grid()\n",
    "\n",
    "    plt.tight_layout()\n",
    "    plt.show()\n",
    "    \n",
    "plot_training_history(history)"
   ],
   "id": "6b81e18545e0fefb",
   "outputs": [
    {
     "data": {
      "text/plain": [
       "<Figure size 1200x500 with 2 Axes>"
      ],
      "image/png": "[encoded data removed]"
     },
     "metadata": {},
     "output_type": "display_data"
    }
   ],
   "execution_count": 69
  },
  {
   "metadata": {
    "ExecuteTime": {
     "end_time": "2024-12-04T14:40:36.491618Z",
     "start_time": "2024-12-04T14:40:36.478094Z"
    }
   },
   "cell_type": "code",
   "source": "report_df",
   "id": "d7f0fa5477a621c5",
   "outputs": [
    {
     "data": {
      "text/plain": [
       "                               precision    recall  f1-score      support\n",
       "n02085620-Chihuahua             0.200000  0.142857  0.166667    14.000000\n",
       "n02085782-Japanese_spaniel      0.595238  0.781250  0.675676    32.000000\n",
       "n02085936-Maltese_dog           0.692308  0.514286  0.590164    35.000000\n",
       "n02086079-Pekinese              0.517241  0.681818  0.588235    22.000000\n",
       "n02086240-Shih-Tzu              0.367347  0.620690  0.461538    29.000000\n",
       "...                                  ...       ...       ...          ...\n",
       "n02116738-African_hunting_dog   0.764706  0.684211  0.722222    19.000000\n",
       "wolf                            0.920354  0.717241  0.806202   145.000000\n",
       "accuracy                        0.556208  0.556208  0.556208     0.556208\n",
       "macro avg                       0.590800  0.542794  0.540696  3238.000000\n",
       "weighted avg                    0.610014  0.556208  0.558267  3238.000000\n",
       "\n",
       "[124 rows x 4 columns]"
      ],
      "text/html": [
       "<div>\n",
       "<style scoped>\n",
       "    .dataframe tbody tr th:only-of-type {\n",
       "        vertical-align: middle;\n",
       "    }\n",
       "\n",
       "    .dataframe tbody tr th {\n",
       "        vertical-align: top;\n",
       "    }\n",
       "\n",
       "    .dataframe thead th {\n",
       "        text-align: right;\n",
       "    }\n",
       "</style>\n",
       "<table border=\"1\" class=\"dataframe\">\n",
       "  <thead>\n",
       "    <tr style=\"text-align: right;\">\n",
       "      <th></th>\n",
       "      <th>precision</th>\n",
       "      <th>recall</th>\n",
       "      <th>f1-score</th>\n",
       "      <th>support</th>\n",
       "    </tr>\n",
       "  </thead>\n",
       "  <tbody>\n",
       "    <tr>\n",
       "      <th>n02085620-Chihuahua</th>\n",
       "      <td>0.200000</td>\n",
       "      <td>0.142857</td>\n",
       "      <td>0.166667</td>\n",
       "      <td>14.000000</td>\n",
       "    </tr>\n",
       "    <tr>\n",
       "      <th>n02085782-Japanese_spaniel</th>\n",
       "      <td>0.595238</td>\n",
       "      <td>0.781250</td>\n",
       "      <td>0.675676</td>\n",
       "      <td>32.000000</td>\n",
       "    </tr>\n",
       "    <tr>\n",
       "      <th>n02085936-Maltese_dog</th>\n",
       "      <td>0.692308</td>\n",
       "      <td>0.514286</td>\n",
       "      <td>0.590164</td>\n",
       "      <td>35.000000</td>\n",
       "    </tr>\n",
       "    <tr>\n",
       "      <th>n02086079-Pekinese</th>\n",
       "      <td>0.517241</td>\n",
       "      <td>0.681818</td>\n",
       "      <td>0.588235</td>\n",
       "      <td>22.000000</td>\n",
       "    </tr>\n",
       "    <tr>\n",
       "      <th>n02086240-Shih-Tzu</th>\n",
       "      <td>0.367347</td>\n",
       "      <td>0.620690</td>\n",
       "      <td>0.461538</td>\n",
       "      <td>29.000000</td>\n",
       "    </tr>\n",
       "    <tr>\n",
       "      <th>...</th>\n",
       "      <td>...</td>\n",
       "      <td>...</td>\n",
       "      <td>...</td>\n",
       "      <td>...</td>\n",
       "    </tr>\n",
       "    <tr>\n",
       "      <th>n02116738-African_hunting_dog</th>\n",
       "      <td>0.764706</td>\n",
       "      <td>0.684211</td>\n",
       "      <td>0.722222</td>\n",
       "      <td>19.000000</td>\n",
       "    </tr>\n",
       "    <tr>\n",
       "      <th>wolf</th>\n",
       "      <td>0.920354</td>\n",
       "      <td>0.717241</td>\n",
       "      <td>0.806202</td>\n",
       "      <td>145.000000</td>\n",
       "    </tr>\n",
       "    <tr>\n",
       "      <th>accuracy</th>\n",
       "      <td>0.556208</td>\n",
       "      <td>0.556208</td>\n",
       "      <td>0.556208</td>\n",
       "      <td>0.556208</td>\n",
       "    </tr>\n",
       "    <tr>\n",
       "      <th>macro avg</th>\n",
       "      <td>0.590800</td>\n",
       "      <td>0.542794</td>\n",
       "      <td>0.540696</td>\n",
       "      <td>3238.000000</td>\n",
       "    </tr>\n",
       "    <tr>\n",
       "      <th>weighted avg</th>\n",
       "      <td>0.610014</td>\n",
       "      <td>0.556208</td>\n",
       "      <td>0.558267</td>\n",
       "      <td>3238.000000</td>\n",
       "    </tr>\n",
       "  </tbody>\n",
       "</table>\n",
       "<p>124 rows × 4 columns</p>\n",
       "</div>"
      ]
     },
     "execution_count": 70,
     "metadata": {},
     "output_type": "execute_result"
    }
   ],
   "execution_count": 70
  },
  {
   "metadata": {},
   "cell_type": "code",
   "outputs": [],
   "execution_count": null,
   "source": "",
   "id": "2ad7fee7fdbe570d"
  }
 ],
 "metadata": {
  "kernelspec": {
   "display_name": "Python 3",
   "language": "python",
   "name": "python3"
  },
  "language_info": {
   "codemirror_mode": {
    "name": "ipython",
    "version": 2
   },
   "file_extension": ".py",
   "mimetype": "text/x-python",
   "name": "python",
   "nbconvert_exporter": "python",
   "pygments_lexer": "ipython2",
   "version": "2.7.6"
  }
 },
 "nbformat": 4,
 "nbformat_minor": 5
}

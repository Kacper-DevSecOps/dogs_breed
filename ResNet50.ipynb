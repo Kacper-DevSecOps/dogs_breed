{
 "cells": [
  {
   "cell_type": "markdown",
   "source": "# ResNet50",
   "metadata": {
    "id": "LZCO8qlDf5Ji"
   },
   "id": "LZCO8qlDf5Ji"
  },
  {
   "cell_type": "code",
   "execution_count": 1,
   "id": "9196a05a-afa9-4f8a-8d76-847c2db4ab93",
   "metadata": {
    "colab": {
     "base_uri": "https://localhost:8080/"
    },
    "id": "9196a05a-afa9-4f8a-8d76-847c2db4ab93",
    "outputId": "356ece07-7f98-4dbf-e7ac-5c748a114fcc"
   },
   "outputs": [
    {
     "output_type": "stream",
     "name": "stdout",
     "text": [
      "Requirement already satisfied: kagglehub in /usr/local/lib/python3.11/dist-packages (0.3.6)\n",
      "Requirement already satisfied: packaging in /usr/local/lib/python3.11/dist-packages (from kagglehub) (24.2)\n",
      "Requirement already satisfied: requests in /usr/local/lib/python3.11/dist-packages (from kagglehub) (2.32.3)\n",
      "Requirement already satisfied: tqdm in /usr/local/lib/python3.11/dist-packages (from kagglehub) (4.67.1)\n",
      "Requirement already satisfied: charset-normalizer<4,>=2 in /usr/local/lib/python3.11/dist-packages (from requests->kagglehub) (3.4.1)\n",
      "Requirement already satisfied: idna<4,>=2.5 in /usr/local/lib/python3.11/dist-packages (from requests->kagglehub) (3.10)\n",
      "Requirement already satisfied: urllib3<3,>=1.21.1 in /usr/local/lib/python3.11/dist-packages (from requests->kagglehub) (2.3.0)\n",
      "Requirement already satisfied: certifi>=2017.4.17 in /usr/local/lib/python3.11/dist-packages (from requests->kagglehub) (2024.12.14)\n"
     ]
    }
   ],
   "source": [
    "pip install kagglehub"
   ]
  },
  {
   "cell_type": "code",
   "execution_count": 2,
   "id": "9dd90bdd-09ba-43b3-9481-7569f8f14acc",
   "metadata": {
    "colab": {
     "base_uri": "https://localhost:8080/"
    },
    "id": "9dd90bdd-09ba-43b3-9481-7569f8f14acc",
    "outputId": "64c62801-045a-422a-c78b-c20c1ae2db2b"
   },
   "outputs": [
    {
     "output_type": "stream",
     "name": "stdout",
     "text": [
      "Requirement already satisfied: torch in /usr/local/lib/python3.11/dist-packages (2.5.1+cu121)\n",
      "Requirement already satisfied: filelock in /usr/local/lib/python3.11/dist-packages (from torch) (3.16.1)\n",
      "Requirement already satisfied: typing-extensions>=4.8.0 in /usr/local/lib/python3.11/dist-packages (from torch) (4.12.2)\n",
      "Requirement already satisfied: networkx in /usr/local/lib/python3.11/dist-packages (from torch) (3.4.2)\n",
      "Requirement already satisfied: jinja2 in /usr/local/lib/python3.11/dist-packages (from torch) (3.1.5)\n",
      "Requirement already satisfied: fsspec in /usr/local/lib/python3.11/dist-packages (from torch) (2024.10.0)\n",
      "Requirement already satisfied: nvidia-cuda-nvrtc-cu12==12.1.105 in /usr/local/lib/python3.11/dist-packages (from torch) (12.1.105)\n",
      "Requirement already satisfied: nvidia-cuda-runtime-cu12==12.1.105 in /usr/local/lib/python3.11/dist-packages (from torch) (12.1.105)\n",
      "Requirement already satisfied: nvidia-cuda-cupti-cu12==12.1.105 in /usr/local/lib/python3.11/dist-packages (from torch) (12.1.105)\n",
      "Requirement already satisfied: nvidia-cudnn-cu12==9.1.0.70 in /usr/local/lib/python3.11/dist-packages (from torch) (9.1.0.70)\n",
      "Requirement already satisfied: nvidia-cublas-cu12==12.1.3.1 in /usr/local/lib/python3.11/dist-packages (from torch) (12.1.3.1)\n",
      "Requirement already satisfied: nvidia-cufft-cu12==11.0.2.54 in /usr/local/lib/python3.11/dist-packages (from torch) (11.0.2.54)\n",
      "Requirement already satisfied: nvidia-curand-cu12==10.3.2.106 in /usr/local/lib/python3.11/dist-packages (from torch) (10.3.2.106)\n",
      "Requirement already satisfied: nvidia-cusolver-cu12==11.4.5.107 in /usr/local/lib/python3.11/dist-packages (from torch) (11.4.5.107)\n",
      "Requirement already satisfied: nvidia-cusparse-cu12==12.1.0.106 in /usr/local/lib/python3.11/dist-packages (from torch) (12.1.0.106)\n",
      "Requirement already satisfied: nvidia-nccl-cu12==2.21.5 in /usr/local/lib/python3.11/dist-packages (from torch) (2.21.5)\n",
      "Requirement already satisfied: nvidia-nvtx-cu12==12.1.105 in /usr/local/lib/python3.11/dist-packages (from torch) (12.1.105)\n",
      "Requirement already satisfied: triton==3.1.0 in /usr/local/lib/python3.11/dist-packages (from torch) (3.1.0)\n",
      "Requirement already satisfied: sympy==1.13.1 in /usr/local/lib/python3.11/dist-packages (from torch) (1.13.1)\n",
      "Requirement already satisfied: nvidia-nvjitlink-cu12 in /usr/local/lib/python3.11/dist-packages (from nvidia-cusolver-cu12==11.4.5.107->torch) (12.6.85)\n",
      "Requirement already satisfied: mpmath<1.4,>=1.1.0 in /usr/local/lib/python3.11/dist-packages (from sympy==1.13.1->torch) (1.3.0)\n",
      "Requirement already satisfied: MarkupSafe>=2.0 in /usr/local/lib/python3.11/dist-packages (from jinja2->torch) (3.0.2)\n"
     ]
    }
   ],
   "source": [
    "pip install torch"
   ]
  },
  {
   "cell_type": "markdown",
   "source": [
    "# 2. Importowanie bibliotek i modułów\n",
    "Ładowanie kluczowych bibliotek potrzebne do obsługi danych, procesowania obrazów, modelowania głębokiego uczenia oraz ewaluacji modelu. Wykorzystywane są tu torch i torchvision dla operacji na sieciach neuronowych i obrazach, w tym ładowanie modelu ResNet50. Funkcje jak DataLoader, WeightedRandomSampler, i random_split wspierają efektywne ładowanie i próbkowanie danych. transforms służy do przygotowania obrazów do modelowania. Biblioteki takie jak pandas dla operacji na danych, matplotlib dla wizualizacji, oraz sklearn.metrics dla metryk ewaluacyjnych ułatwiają zarządzanie i analizę wyników. tqdm dodaje pasek postępu dla operacji długotrwałych, a Counter pomaga w analizie rozkładu danych.\n",
    "\n",
    "\n",
    "\n",
    "\n",
    "\n",
    "\n"
   ],
   "metadata": {
    "id": "fD3gj-shf_rY"
   },
   "id": "fD3gj-shf_rY"
  },
  {
   "cell_type": "code",
   "execution_count": 3,
   "id": "86e7288097673a44",
   "metadata": {
    "id": "86e7288097673a44"
   },
   "outputs": [],
   "source": [
    "import kagglehub\n",
    "import torch\n",
    "from torch.utils.data import WeightedRandomSampler\n",
    "from torch.utils.data import DataLoader, random_split\n",
    "from torchvision.models import ResNet50_Weights\n",
    "from torch.utils.data import DataLoader\n",
    "from torchvision import datasets, transforms, models\n",
    "from torchvision import transforms\n",
    "from sklearn.metrics import classification_report, confusion_matrix, roc_auc_score, f1_score\n",
    "from tqdm import tqdm\n",
    "import matplotlib.pyplot as plt\n",
    "import pandas as pd\n",
    "from collections import Counter"
   ]
  },
  {
   "cell_type": "markdown",
   "source": [
    "#3. Pobranie zestawów danych"
   ],
   "metadata": {
    "id": "p7laD73ags-C"
   },
   "id": "p7laD73ags-C"
  },
  {
   "cell_type": "code",
   "execution_count": 4,
   "id": "72ae0bd84147765e",
   "metadata": {
    "colab": {
     "base_uri": "https://localhost:8080/"
    },
    "id": "72ae0bd84147765e",
    "outputId": "d8b1a422-264c-4cef-e532-7f9fa3d00523"
   },
   "outputs": [
    {
     "output_type": "stream",
     "name": "stdout",
     "text": [
      "Downloading from https://www.kaggle.com/api/v1/datasets/download/jessicali9530/stanford-dogs-dataset?dataset_version_number=2...\n"
     ]
    },
    {
     "output_type": "stream",
     "name": "stderr",
     "text": [
      "100%|██████████| 750M/750M [00:15<00:00, 52.2MB/s]"
     ]
    },
    {
     "output_type": "stream",
     "name": "stdout",
     "text": [
      "Extracting files...\n"
     ]
    },
    {
     "output_type": "stream",
     "name": "stderr",
     "text": [
      "\n"
     ]
    },
    {
     "output_type": "stream",
     "name": "stdout",
     "text": [
      "Downloading from https://www.kaggle.com/api/v1/datasets/download/harishvutukuri/dogs-vs-wolves?dataset_version_number=2...\n"
     ]
    },
    {
     "output_type": "stream",
     "name": "stderr",
     "text": [
      "100%|██████████| 222M/222M [00:02<00:00, 113MB/s]"
     ]
    },
    {
     "output_type": "stream",
     "name": "stdout",
     "text": [
      "Extracting files...\n"
     ]
    },
    {
     "output_type": "stream",
     "name": "stderr",
     "text": [
      "\n"
     ]
    },
    {
     "output_type": "stream",
     "name": "stdout",
     "text": [
      "Path to dataset files: /root/.cache/kagglehub/datasets/jessicali9530/stanford-dogs-dataset/versions/2\n",
      "Path to dataset files: /root/.cache/kagglehub/datasets/harishvutukuri/dogs-vs-wolves/versions/2\n"
     ]
    }
   ],
   "source": [
    "path_stanford_dogs = kagglehub.dataset_download(\"jessicali9530/stanford-dogs-dataset\")\n",
    "path_wolfs = kagglehub.dataset_download(\"harishvutukuri/dogs-vs-wolves\")\n",
    "\n",
    "print(\"Path to dataset files:\", path_stanford_dogs)\n",
    "print(\"Path to dataset files:\", path_wolfs)"
   ]
  },
  {
   "cell_type": "code",
   "execution_count": 5,
   "id": "6fa0af03783da4c4",
   "metadata": {
    "colab": {
     "base_uri": "https://localhost:8080/"
    },
    "id": "6fa0af03783da4c4",
    "outputId": "3f846788-19dc-41e2-c93b-0c17d38ffd0d"
   },
   "outputs": [
    {
     "output_type": "stream",
     "name": "stdout",
     "text": [
      "True\n",
      "12.1\n"
     ]
    }
   ],
   "source": [
    "print(torch.cuda.is_available())\n",
    "print(torch.version.cuda)"
   ]
  },
  {
   "cell_type": "markdown",
   "id": "7990dbdbaea4c422",
   "metadata": {
    "id": "7990dbdbaea4c422"
   },
   "source": [
    "# 4. Organizacja katalogów i integracja zestawów danych\n",
    "W ramach tej operacji, dane z dwóch zestawów - stanford-dogs-dataset oraz dogs-vs-wolves - zostały zintegrowane poprzez przeniesienie obrazów wilków do katalogu obrazów psów. Za pomocą modułów os i shutil, w katalogu images utworzony został nowy podfolder wolf, gdzie umieszczono wszystkie obrazy wilków. Ta strukturalna organizacja danych pozwala na efektywniejsze zarządzanie i dostęp do wszystkich obrazów z obu zestawów w jednej lokalizacji, co ułatwia dalsze przetwarzanie i analizę danych.\n",
    "\n"
   ]
  },
  {
   "cell_type": "code",
   "execution_count": 6,
   "id": "4fec6d562d854d06",
   "metadata": {
    "colab": {
     "base_uri": "https://localhost:8080/"
    },
    "id": "4fec6d562d854d06",
    "outputId": "9c23cf09-1507-4942-9ed5-0e71182461fa"
   },
   "outputs": [
    {
     "output_type": "stream",
     "name": "stdout",
     "text": [
      "Wolves successfully moved into: /root/.cache/kagglehub/datasets/jessicali9530/stanford-dogs-dataset/versions/2/images/Images/wolf\n"
     ]
    }
   ],
   "source": [
    "import os\n",
    "import shutil\n",
    "\n",
    "base_dir = \"data\"\n",
    "dogs_dir = os.path.join(path_stanford_dogs, \"images/Images\")\n",
    "wolves_dir = os.path.join(path_wolfs, \"data\", \"wolves\")\n",
    "\n",
    "def integrate_wolves_into_dogs(dogs_dir, wolves_dir):\n",
    "    \"\"\"\n",
    "    Moves wolf images into the 'images' directory of the dogs dataset\n",
    "    under a new folder named 'wolf'.\n",
    "    \"\"\"\n",
    "    wolf_class_dir = os.path.join(dogs_dir, \"wolf\")\n",
    "    os.makedirs(wolf_class_dir, exist_ok=True)\n",
    "\n",
    "    for file_name in os.listdir(wolves_dir):\n",
    "        src_path = os.path.join(wolves_dir, file_name)\n",
    "        dest_path = os.path.join(wolf_class_dir, file_name)\n",
    "\n",
    "        if os.path.isfile(src_path):\n",
    "            shutil.move(src_path, dest_path)\n",
    "\n",
    "    print(f\"Wolves successfully moved into: {wolf_class_dir}\")\n",
    "\n",
    "integrate_wolves_into_dogs(dogs_dir, wolves_dir)\n"
   ]
  },
  {
   "cell_type": "markdown",
   "source": [
    "# 5. Zastosowanie transformacji i próbkowania dla równoważenia zestawu danych\n",
    "W projekcie zastosowano transformacje obrazów, takie jak zmiana rozmiaru, konwersja do tensorów oraz normalizacja, aby przygotować dane wejściowe do efektywnego trenowania modeli głębokiego uczenia, przy czym wykorzystanie GPU jako urządzenia docelowego znacząco przyspieszyło przetwarzanie. Dane zostały podzielone na zestawy treningowe, walidacyjne i testowe, co umożliwia odpowiednią ocenę modelu na różnych etapach uczenia. Dodatkowo, przygotowano próbnik z wagami za pomocą WeightedRandomSampler do równoważenia klas w zestawie treningowym, co zapobiega dominacji liczniejszych klas i poprawia zdolność modelu do generalizacji. Zdefiniowane DataLoader dla każdego zestawu danych gwarantują efektywne ładowanie i przetwarzanie danych w procesie treningu, walidacji i testowania modelu."
   ],
   "metadata": {
    "id": "ktsmJW6Zh6es"
   },
   "id": "ktsmJW6Zh6es"
  },
  {
   "cell_type": "code",
   "execution_count": 7,
   "id": "17ee7ebbd28b63e2",
   "metadata": {
    "id": "17ee7ebbd28b63e2"
   },
   "outputs": [],
   "source": [
    "device = torch.device(\"cuda\")\n",
    "\n",
    "transform = transforms.Compose([\n",
    "    transforms.Resize((224, 224)),\n",
    "    transforms.ToTensor(),\n",
    "    transforms.Normalize(mean=[0.485, 0.456, 0.406], std=[0.229, 0.224, 0.225]),\n",
    "])\n",
    "\n",
    "\n",
    "def prepare_dataset(dogs_dir, transform):\n",
    "\n",
    "    dog_dataset = datasets.ImageFolder(dogs_dir, transform=transform)\n",
    "\n",
    "\n",
    "    train_size = int(0.7 * len(dog_dataset))\n",
    "    val_size = int(0.15 * len(dog_dataset))\n",
    "    test_size = len(dog_dataset) - train_size - val_size\n",
    "    train_dataset, val_dataset, test_dataset = random_split(dog_dataset, [train_size, val_size, test_size])\n",
    "\n",
    "    return train_dataset, val_dataset, test_dataset\n",
    "\n",
    "\n",
    "\n",
    "train_dataset, val_dataset, test_dataset = prepare_dataset(dogs_dir, transform)\n",
    "\n",
    "\n",
    "\n",
    "def create_sampler(dataset):\n",
    "    all_classes = range(len(dataset.dataset.classes))\n",
    "    class_names = dataset.dataset.classes  # Class names from ImageFolder\n",
    "\n",
    "    class_counts = Counter(dataset.dataset.targets[i] for i in dataset.indices)\n",
    "\n",
    "    for cls in all_classes:\n",
    "        if cls not in class_counts:\n",
    "            class_counts[cls] = 0\n",
    "\n",
    "    class_weights = {cls: 1.0 / count for cls, count in class_counts.items()}\n",
    "\n",
    "    sample_weights = [class_weights[dataset.dataset.targets[i]] for i in dataset.indices]\n",
    "\n",
    "    sampler = WeightedRandomSampler(sample_weights, num_samples=len(sample_weights), replacement=True)\n",
    "\n",
    "    weight_df = pd.DataFrame({\n",
    "        'Class': class_names,\n",
    "        'Count': [class_counts[cls] for cls in all_classes],\n",
    "        'Weight': [class_weights[cls] for cls in all_classes]\n",
    "    })\n",
    "\n",
    "    return sampler,weight_df\n",
    "\n",
    "train_sampler,classes_weights = create_sampler(train_dataset)\n",
    "train_loader = DataLoader(train_dataset, batch_size=128, sampler=train_sampler)\n",
    "val_loader = DataLoader(val_dataset, batch_size=128)\n",
    "test_loader = DataLoader(test_dataset, batch_size=128)\n"
   ]
  },
  {
   "cell_type": "code",
   "execution_count": 8,
   "id": "2bnD3ulXsym0",
   "metadata": {
    "colab": {
     "base_uri": "https://localhost:8080/"
    },
    "id": "2bnD3ulXsym0",
    "outputId": "1ae1dcf0-7fb7-44a0-b72b-d2d9acc9543e"
   },
   "outputs": [
    {
     "output_type": "execute_result",
     "data": {
      "text/plain": [
       "Compose(\n",
       "    Resize(size=(224, 224), interpolation=bilinear, max_size=None, antialias=True)\n",
       "    ToTensor()\n",
       "    Normalize(mean=[0.485, 0.456, 0.406], std=[0.229, 0.224, 0.225])\n",
       ")"
      ]
     },
     "metadata": {},
     "execution_count": 8
    }
   ],
   "source": [
    "transform"
   ]
  },
  {
   "cell_type": "code",
   "execution_count": 9,
   "id": "3a717eae8e5c86eb",
   "metadata": {
    "colab": {
     "base_uri": "https://localhost:8080/",
     "height": 423
    },
    "id": "3a717eae8e5c86eb",
    "outputId": "66449796-deb1-4efb-b97d-5d991bfd5bb5"
   },
   "outputs": [
    {
     "output_type": "execute_result",
     "data": {
      "text/plain": [
       "                             Class  Count    Weight\n",
       "0              n02085620-Chihuahua    102  0.009804\n",
       "1       n02085782-Japanese_spaniel    133  0.007519\n",
       "2            n02085936-Maltese_dog    179  0.005587\n",
       "3               n02086079-Pekinese     95  0.010526\n",
       "4               n02086240-Shih-Tzu    147  0.006803\n",
       "..                             ...    ...       ...\n",
       "116     n02113978-Mexican_hairless    103  0.009709\n",
       "117                n02115641-dingo    114  0.008772\n",
       "118                n02115913-dhole    108  0.009259\n",
       "119  n02116738-African_hunting_dog    126  0.007937\n",
       "120                           wolf    691  0.001447\n",
       "\n",
       "[121 rows x 3 columns]"
      ],
      "text/html": [
       "\n",
       "  <div id=\"df-6be83c5d-1281-476f-967c-444d8a569300\" class=\"colab-df-container\">\n",
       "    <div>\n",
       "<style scoped>\n",
       "    .dataframe tbody tr th:only-of-type {\n",
       "        vertical-align: middle;\n",
       "    }\n",
       "\n",
       "    .dataframe tbody tr th {\n",
       "        vertical-align: top;\n",
       "    }\n",
       "\n",
       "    .dataframe thead th {\n",
       "        text-align: right;\n",
       "    }\n",
       "</style>\n",
       "<table border=\"1\" class=\"dataframe\">\n",
       "  <thead>\n",
       "    <tr style=\"text-align: right;\">\n",
       "      <th></th>\n",
       "      <th>Class</th>\n",
       "      <th>Count</th>\n",
       "      <th>Weight</th>\n",
       "    </tr>\n",
       "  </thead>\n",
       "  <tbody>\n",
       "    <tr>\n",
       "      <th>0</th>\n",
       "      <td>n02085620-Chihuahua</td>\n",
       "      <td>102</td>\n",
       "      <td>0.009804</td>\n",
       "    </tr>\n",
       "    <tr>\n",
       "      <th>1</th>\n",
       "      <td>n02085782-Japanese_spaniel</td>\n",
       "      <td>133</td>\n",
       "      <td>0.007519</td>\n",
       "    </tr>\n",
       "    <tr>\n",
       "      <th>2</th>\n",
       "      <td>n02085936-Maltese_dog</td>\n",
       "      <td>179</td>\n",
       "      <td>0.005587</td>\n",
       "    </tr>\n",
       "    <tr>\n",
       "      <th>3</th>\n",
       "      <td>n02086079-Pekinese</td>\n",
       "      <td>95</td>\n",
       "      <td>0.010526</td>\n",
       "    </tr>\n",
       "    <tr>\n",
       "      <th>4</th>\n",
       "      <td>n02086240-Shih-Tzu</td>\n",
       "      <td>147</td>\n",
       "      <td>0.006803</td>\n",
       "    </tr>\n",
       "    <tr>\n",
       "      <th>...</th>\n",
       "      <td>...</td>\n",
       "      <td>...</td>\n",
       "      <td>...</td>\n",
       "    </tr>\n",
       "    <tr>\n",
       "      <th>116</th>\n",
       "      <td>n02113978-Mexican_hairless</td>\n",
       "      <td>103</td>\n",
       "      <td>0.009709</td>\n",
       "    </tr>\n",
       "    <tr>\n",
       "      <th>117</th>\n",
       "      <td>n02115641-dingo</td>\n",
       "      <td>114</td>\n",
       "      <td>0.008772</td>\n",
       "    </tr>\n",
       "    <tr>\n",
       "      <th>118</th>\n",
       "      <td>n02115913-dhole</td>\n",
       "      <td>108</td>\n",
       "      <td>0.009259</td>\n",
       "    </tr>\n",
       "    <tr>\n",
       "      <th>119</th>\n",
       "      <td>n02116738-African_hunting_dog</td>\n",
       "      <td>126</td>\n",
       "      <td>0.007937</td>\n",
       "    </tr>\n",
       "    <tr>\n",
       "      <th>120</th>\n",
       "      <td>wolf</td>\n",
       "      <td>691</td>\n",
       "      <td>0.001447</td>\n",
       "    </tr>\n",
       "  </tbody>\n",
       "</table>\n",
       "<p>121 rows × 3 columns</p>\n",
       "</div>\n",
       "    <div class=\"colab-df-buttons\">\n",
       "\n",
       "  <div class=\"colab-df-container\">\n",
       "    <button class=\"colab-df-convert\" onclick=\"convertToInteractive('df-6be83c5d-1281-476f-967c-444d8a569300')\"\n",
       "            title=\"Convert this dataframe to an interactive table.\"\n",
       "            style=\"display:none;\">\n",
       "\n",
       "  <svg xmlns=\"http://www.w3.org/2000/svg\" height=\"24px\" viewBox=\"0 -960 960 960\">\n",
       "    <path d=\"M120-120v-720h720v720H120Zm60-500h600v-160H180v160Zm220 220h160v-160H400v160Zm0 220h160v-160H400v160ZM180-400h160v-160H180v160Zm440 0h160v-160H620v160ZM180-180h160v-160H180v160Zm440 0h160v-160H620v160Z\"/>\n",
       "  </svg>\n",
       "    </button>\n",
       "\n",
       "  <style>\n",
       "    .colab-df-container {\n",
       "      display:flex;\n",
       "      gap: 12px;\n",
       "    }\n",
       "\n",
       "    .colab-df-convert {\n",
       "      background-color: #E8F0FE;\n",
       "      border: none;\n",
       "      border-radius: 50%;\n",
       "      cursor: pointer;\n",
       "      display: none;\n",
       "      fill: #1967D2;\n",
       "      height: 32px;\n",
       "      padding: 0 0 0 0;\n",
       "      width: 32px;\n",
       "    }\n",
       "\n",
       "    .colab-df-convert:hover {\n",
       "      background-color: #E2EBFA;\n",
       "      box-shadow: 0px 1px 2px rgba(60, 64, 67, 0.3), 0px 1px 3px 1px rgba(60, 64, 67, 0.15);\n",
       "      fill: #174EA6;\n",
       "    }\n",
       "\n",
       "    .colab-df-buttons div {\n",
       "      margin-bottom: 4px;\n",
       "    }\n",
       "\n",
       "    [theme=dark] .colab-df-convert {\n",
       "      background-color: #3B4455;\n",
       "      fill: #D2E3FC;\n",
       "    }\n",
       "\n",
       "    [theme=dark] .colab-df-convert:hover {\n",
       "      background-color: #434B5C;\n",
       "      box-shadow: 0px 1px 3px 1px rgba(0, 0, 0, 0.15);\n",
       "      filter: drop-shadow(0px 1px 2px rgba(0, 0, 0, 0.3));\n",
       "      fill: #FFFFFF;\n",
       "    }\n",
       "  </style>\n",
       "\n",
       "    <script>\n",
       "      const buttonEl =\n",
       "        document.querySelector('#df-6be83c5d-1281-476f-967c-444d8a569300 button.colab-df-convert');\n",
       "      buttonEl.style.display =\n",
       "        google.colab.kernel.accessAllowed ? 'block' : 'none';\n",
       "\n",
       "      async function convertToInteractive(key) {\n",
       "        const element = document.querySelector('#df-6be83c5d-1281-476f-967c-444d8a569300');\n",
       "        const dataTable =\n",
       "          await google.colab.kernel.invokeFunction('convertToInteractive',\n",
       "                                                    [key], {});\n",
       "        if (!dataTable) return;\n",
       "\n",
       "        const docLinkHtml = 'Like what you see? Visit the ' +\n",
       "          '<a target=\"_blank\" href=https://colab.research.google.com/notebooks/data_table.ipynb>data table notebook</a>'\n",
       "          + ' to learn more about interactive tables.';\n",
       "        element.innerHTML = '';\n",
       "        dataTable['output_type'] = 'display_data';\n",
       "        await google.colab.output.renderOutput(dataTable, element);\n",
       "        const docLink = document.createElement('div');\n",
       "        docLink.innerHTML = docLinkHtml;\n",
       "        element.appendChild(docLink);\n",
       "      }\n",
       "    </script>\n",
       "  </div>\n",
       "\n",
       "\n",
       "<div id=\"df-c4317a7a-1a60-4d23-bd02-3507a74d6f59\">\n",
       "  <button class=\"colab-df-quickchart\" onclick=\"quickchart('df-c4317a7a-1a60-4d23-bd02-3507a74d6f59')\"\n",
       "            title=\"Suggest charts\"\n",
       "            style=\"display:none;\">\n",
       "\n",
       "<svg xmlns=\"http://www.w3.org/2000/svg\" height=\"24px\"viewBox=\"0 0 24 24\"\n",
       "     width=\"24px\">\n",
       "    <g>\n",
       "        <path d=\"M19 3H5c-1.1 0-2 .9-2 2v14c0 1.1.9 2 2 2h14c1.1 0 2-.9 2-2V5c0-1.1-.9-2-2-2zM9 17H7v-7h2v7zm4 0h-2V7h2v10zm4 0h-2v-4h2v4z\"/>\n",
       "    </g>\n",
       "</svg>\n",
       "  </button>\n",
       "\n",
       "<style>\n",
       "  .colab-df-quickchart {\n",
       "      --bg-color: #E8F0FE;\n",
       "      --fill-color: #1967D2;\n",
       "      --hover-bg-color: #E2EBFA;\n",
       "      --hover-fill-color: #174EA6;\n",
       "      --disabled-fill-color: #AAA;\n",
       "      --disabled-bg-color: #DDD;\n",
       "  }\n",
       "\n",
       "  [theme=dark] .colab-df-quickchart {\n",
       "      --bg-color: #3B4455;\n",
       "      --fill-color: #D2E3FC;\n",
       "      --hover-bg-color: #434B5C;\n",
       "      --hover-fill-color: #FFFFFF;\n",
       "      --disabled-bg-color: #3B4455;\n",
       "      --disabled-fill-color: #666;\n",
       "  }\n",
       "\n",
       "  .colab-df-quickchart {\n",
       "    background-color: var(--bg-color);\n",
       "    border: none;\n",
       "    border-radius: 50%;\n",
       "    cursor: pointer;\n",
       "    display: none;\n",
       "    fill: var(--fill-color);\n",
       "    height: 32px;\n",
       "    padding: 0;\n",
       "    width: 32px;\n",
       "  }\n",
       "\n",
       "  .colab-df-quickchart:hover {\n",
       "    background-color: var(--hover-bg-color);\n",
       "    box-shadow: 0 1px 2px rgba(60, 64, 67, 0.3), 0 1px 3px 1px rgba(60, 64, 67, 0.15);\n",
       "    fill: var(--button-hover-fill-color);\n",
       "  }\n",
       "\n",
       "  .colab-df-quickchart-complete:disabled,\n",
       "  .colab-df-quickchart-complete:disabled:hover {\n",
       "    background-color: var(--disabled-bg-color);\n",
       "    fill: var(--disabled-fill-color);\n",
       "    box-shadow: none;\n",
       "  }\n",
       "\n",
       "  .colab-df-spinner {\n",
       "    border: 2px solid var(--fill-color);\n",
       "    border-color: transparent;\n",
       "    border-bottom-color: var(--fill-color);\n",
       "    animation:\n",
       "      spin 1s steps(1) infinite;\n",
       "  }\n",
       "\n",
       "  @keyframes spin {\n",
       "    0% {\n",
       "      border-color: transparent;\n",
       "      border-bottom-color: var(--fill-color);\n",
       "      border-left-color: var(--fill-color);\n",
       "    }\n",
       "    20% {\n",
       "      border-color: transparent;\n",
       "      border-left-color: var(--fill-color);\n",
       "      border-top-color: var(--fill-color);\n",
       "    }\n",
       "    30% {\n",
       "      border-color: transparent;\n",
       "      border-left-color: var(--fill-color);\n",
       "      border-top-color: var(--fill-color);\n",
       "      border-right-color: var(--fill-color);\n",
       "    }\n",
       "    40% {\n",
       "      border-color: transparent;\n",
       "      border-right-color: var(--fill-color);\n",
       "      border-top-color: var(--fill-color);\n",
       "    }\n",
       "    60% {\n",
       "      border-color: transparent;\n",
       "      border-right-color: var(--fill-color);\n",
       "    }\n",
       "    80% {\n",
       "      border-color: transparent;\n",
       "      border-right-color: var(--fill-color);\n",
       "      border-bottom-color: var(--fill-color);\n",
       "    }\n",
       "    90% {\n",
       "      border-color: transparent;\n",
       "      border-bottom-color: var(--fill-color);\n",
       "    }\n",
       "  }\n",
       "</style>\n",
       "\n",
       "  <script>\n",
       "    async function quickchart(key) {\n",
       "      const quickchartButtonEl =\n",
       "        document.querySelector('#' + key + ' button');\n",
       "      quickchartButtonEl.disabled = true;  // To prevent multiple clicks.\n",
       "      quickchartButtonEl.classList.add('colab-df-spinner');\n",
       "      try {\n",
       "        const charts = await google.colab.kernel.invokeFunction(\n",
       "            'suggestCharts', [key], {});\n",
       "      } catch (error) {\n",
       "        console.error('Error during call to suggestCharts:', error);\n",
       "      }\n",
       "      quickchartButtonEl.classList.remove('colab-df-spinner');\n",
       "      quickchartButtonEl.classList.add('colab-df-quickchart-complete');\n",
       "    }\n",
       "    (() => {\n",
       "      let quickchartButtonEl =\n",
       "        document.querySelector('#df-c4317a7a-1a60-4d23-bd02-3507a74d6f59 button');\n",
       "      quickchartButtonEl.style.display =\n",
       "        google.colab.kernel.accessAllowed ? 'block' : 'none';\n",
       "    })();\n",
       "  </script>\n",
       "</div>\n",
       "\n",
       "  <div id=\"id_aaade2ef-fd65-4c2e-8c3f-21266323fd8d\">\n",
       "    <style>\n",
       "      .colab-df-generate {\n",
       "        background-color: #E8F0FE;\n",
       "        border: none;\n",
       "        border-radius: 50%;\n",
       "        cursor: pointer;\n",
       "        display: none;\n",
       "        fill: #1967D2;\n",
       "        height: 32px;\n",
       "        padding: 0 0 0 0;\n",
       "        width: 32px;\n",
       "      }\n",
       "\n",
       "      .colab-df-generate:hover {\n",
       "        background-color: #E2EBFA;\n",
       "        box-shadow: 0px 1px 2px rgba(60, 64, 67, 0.3), 0px 1px 3px 1px rgba(60, 64, 67, 0.15);\n",
       "        fill: #174EA6;\n",
       "      }\n",
       "\n",
       "      [theme=dark] .colab-df-generate {\n",
       "        background-color: #3B4455;\n",
       "        fill: #D2E3FC;\n",
       "      }\n",
       "\n",
       "      [theme=dark] .colab-df-generate:hover {\n",
       "        background-color: #434B5C;\n",
       "        box-shadow: 0px 1px 3px 1px rgba(0, 0, 0, 0.15);\n",
       "        filter: drop-shadow(0px 1px 2px rgba(0, 0, 0, 0.3));\n",
       "        fill: #FFFFFF;\n",
       "      }\n",
       "    </style>\n",
       "    <button class=\"colab-df-generate\" onclick=\"generateWithVariable('classes_weights')\"\n",
       "            title=\"Generate code using this dataframe.\"\n",
       "            style=\"display:none;\">\n",
       "\n",
       "  <svg xmlns=\"http://www.w3.org/2000/svg\" height=\"24px\"viewBox=\"0 0 24 24\"\n",
       "       width=\"24px\">\n",
       "    <path d=\"M7,19H8.4L18.45,9,17,7.55,7,17.6ZM5,21V16.75L18.45,3.32a2,2,0,0,1,2.83,0l1.4,1.43a1.91,1.91,0,0,1,.58,1.4,1.91,1.91,0,0,1-.58,1.4L9.25,21ZM18.45,9,17,7.55Zm-12,3A5.31,5.31,0,0,0,4.9,8.1,5.31,5.31,0,0,0,1,6.5,5.31,5.31,0,0,0,4.9,4.9,5.31,5.31,0,0,0,6.5,1,5.31,5.31,0,0,0,8.1,4.9,5.31,5.31,0,0,0,12,6.5,5.46,5.46,0,0,0,6.5,12Z\"/>\n",
       "  </svg>\n",
       "    </button>\n",
       "    <script>\n",
       "      (() => {\n",
       "      const buttonEl =\n",
       "        document.querySelector('#id_aaade2ef-fd65-4c2e-8c3f-21266323fd8d button.colab-df-generate');\n",
       "      buttonEl.style.display =\n",
       "        google.colab.kernel.accessAllowed ? 'block' : 'none';\n",
       "\n",
       "      buttonEl.onclick = () => {\n",
       "        google.colab.notebook.generateWithVariable('classes_weights');\n",
       "      }\n",
       "      })();\n",
       "    </script>\n",
       "  </div>\n",
       "\n",
       "    </div>\n",
       "  </div>\n"
      ],
      "application/vnd.google.colaboratory.intrinsic+json": {
       "type": "dataframe",
       "variable_name": "classes_weights",
       "summary": "{\n  \"name\": \"classes_weights\",\n  \"rows\": 121,\n  \"fields\": [\n    {\n      \"column\": \"Class\",\n      \"properties\": {\n        \"dtype\": \"string\",\n        \"num_unique_values\": 121,\n        \"samples\": [\n          \"n02096585-Boston_bull\",\n          \"n02097209-standard_schnauzer\",\n          \"n02086240-Shih-Tzu\"\n        ],\n        \"semantic_type\": \"\",\n        \"description\": \"\"\n      }\n    },\n    {\n      \"column\": \"Count\",\n      \"properties\": {\n        \"dtype\": \"number\",\n        \"std\": 54,\n        \"min\": 90,\n        \"max\": 691,\n        \"num_unique_values\": 57,\n        \"samples\": [\n          102,\n          129,\n          123\n        ],\n        \"semantic_type\": \"\",\n        \"description\": \"\"\n      }\n    },\n    {\n      \"column\": \"Weight\",\n      \"properties\": {\n        \"dtype\": \"number\",\n        \"std\": 0.0013326041700510347,\n        \"min\": 0.001447178002894356,\n        \"max\": 0.011111111111111112,\n        \"num_unique_values\": 57,\n        \"samples\": [\n          0.00980392156862745,\n          0.007751937984496124,\n          0.008130081300813009\n        ],\n        \"semantic_type\": \"\",\n        \"description\": \"\"\n      }\n    }\n  ]\n}"
      }
     },
     "metadata": {},
     "execution_count": 9
    }
   ],
   "source": [
    "classes_weights"
   ]
  },
  {
   "cell_type": "markdown",
   "source": [
    "#6. Konfiguracja i trening modelu ResNet50\n",
    "\n",
    "Konfiguracja i trening modelu ResNet50: Projekt wykorzystuje model ResNet50 z domyślnymi wagami, dostosowany do zadania poprzez zmianę warstwy wyjściowej na odpowiadającą liczbie klas. Model operuje na GPU dla zwiększenia wydajności.\n",
    "\n",
    "Trening używa funkcji straty CrossEntropyLoss i optymalizatora Adam. Funkcja train_model realizuje trening przez określoną liczbę epok, z możliwością wcześniejszego zakończenia przy braku postępów. W trakcie treningu następuje ewaluacja modelu na danych walidacyjnych, gdzie obliczana jest strata, dokładność oraz wynik F1, istotny dla oceny modelu przy niezbalansowanych klasach.\n",
    "\n",
    "Najlepszy model jest zapisywany i wykorzystywany w dalszym procesie, co gwarantuje użycie najbardziej efektywnego wariantu w praktycznych zastosowaniach."
   ],
   "metadata": {
    "id": "WTNatfRJicht"
   },
   "id": "WTNatfRJicht"
  },
  {
   "cell_type": "code",
   "execution_count": 11,
   "id": "initial_id",
   "metadata": {
    "colab": {
     "base_uri": "https://localhost:8080/"
    },
    "id": "initial_id",
    "outputId": "4d961089-a7b8-4d08-ff69-8c6b4ac4a115"
   },
   "outputs": [
    {
     "output_type": "stream",
     "name": "stderr",
     "text": [
      "Downloading: \"https://download.pytorch.org/models/resnet50-11ad3fa6.pth\" to /root/.cache/torch/hub/checkpoints/resnet50-11ad3fa6.pth\n",
      "100%|██████████| 97.8M/97.8M [00:01<00:00, 66.5MB/s]\n",
      "Epoch 1/10: 100%|██████████| 119/119 [03:28<00:00,  1.75s/batch, loss=4.69]\n"
     ]
    },
    {
     "output_type": "stream",
     "name": "stdout",
     "text": [
      "Epoch 1/10 - Train Loss: 1.5060, Val Loss: 1.5595, Val Accuracy: 0.5514, Val F1-Score: 0.5486\n"
     ]
    },
    {
     "output_type": "stream",
     "name": "stderr",
     "text": [
      "Epoch 2/10: 100%|██████████| 119/119 [03:33<00:00,  1.79s/batch, loss=4.17]\n"
     ]
    },
    {
     "output_type": "stream",
     "name": "stdout",
     "text": [
      "Epoch 2/10 - Train Loss: 0.7784, Val Loss: 1.8490, Val Accuracy: 0.5236, Val F1-Score: 0.5313\n"
     ]
    },
    {
     "output_type": "stream",
     "name": "stderr",
     "text": [
      "Epoch 3/10: 100%|██████████| 119/119 [03:34<00:00,  1.80s/batch, loss=4.51]\n"
     ]
    },
    {
     "output_type": "stream",
     "name": "stdout",
     "text": [
      "Epoch 3/10 - Train Loss: 0.5518, Val Loss: 1.4759, Val Accuracy: 0.6111, Val F1-Score: 0.6176\n"
     ]
    },
    {
     "output_type": "stream",
     "name": "stderr",
     "text": [
      "Epoch 4/10: 100%|██████████| 119/119 [03:32<00:00,  1.79s/batch, loss=5.09]\n"
     ]
    },
    {
     "output_type": "stream",
     "name": "stdout",
     "text": [
      "Epoch 4/10 - Train Loss: 0.4557, Val Loss: 1.4191, Val Accuracy: 0.6305, Val F1-Score: 0.6308\n"
     ]
    },
    {
     "output_type": "stream",
     "name": "stderr",
     "text": [
      "Epoch 5/10: 100%|██████████| 119/119 [03:33<00:00,  1.79s/batch, loss=5.04]\n"
     ]
    },
    {
     "output_type": "stream",
     "name": "stdout",
     "text": [
      "Epoch 5/10 - Train Loss: 0.3472, Val Loss: 1.5760, Val Accuracy: 0.6163, Val F1-Score: 0.6162\n"
     ]
    },
    {
     "output_type": "stream",
     "name": "stderr",
     "text": [
      "Epoch 6/10: 100%|██████████| 119/119 [03:33<00:00,  1.80s/batch, loss=5.5]\n"
     ]
    },
    {
     "output_type": "stream",
     "name": "stdout",
     "text": [
      "Epoch 6/10 - Train Loss: 0.3286, Val Loss: 1.4455, Val Accuracy: 0.6274, Val F1-Score: 0.6290\n"
     ]
    },
    {
     "output_type": "stream",
     "name": "stderr",
     "text": [
      "Epoch 7/10: 100%|██████████| 119/119 [03:32<00:00,  1.78s/batch, loss=4.84]\n"
     ]
    },
    {
     "output_type": "stream",
     "name": "stdout",
     "text": [
      "Epoch 7/10 - Train Loss: 0.2899, Val Loss: 1.5299, Val Accuracy: 0.6324, Val F1-Score: 0.6300\n"
     ]
    },
    {
     "output_type": "stream",
     "name": "stderr",
     "text": [
      "Epoch 8/10: 100%|██████████| 119/119 [03:32<00:00,  1.79s/batch, loss=5.66]\n"
     ]
    },
    {
     "output_type": "stream",
     "name": "stdout",
     "text": [
      "Epoch 8/10 - Train Loss: 0.3522, Val Loss: 1.5527, Val Accuracy: 0.6228, Val F1-Score: 0.6257\n"
     ]
    },
    {
     "output_type": "stream",
     "name": "stderr",
     "text": [
      "Epoch 9/10: 100%|██████████| 119/119 [03:31<00:00,  1.77s/batch, loss=3.6]\n"
     ]
    },
    {
     "output_type": "stream",
     "name": "stdout",
     "text": [
      "Epoch 9/10 - Train Loss: 0.2832, Val Loss: 1.6169, Val Accuracy: 0.6033, Val F1-Score: 0.6080\n",
      "Early stopping at epoch 9\n",
      "Best Validation F1-Score: 0.6308\n"
     ]
    }
   ],
   "source": [
    "model = models.resnet50(weights=ResNet50_Weights.DEFAULT)\n",
    "num_classes = len(train_dataset.dataset.classes)\n",
    "model.fc = torch.nn.Linear(model.fc.in_features, num_classes)\n",
    "model = model.to(device)\n",
    "\n",
    "\n",
    "criterion = torch.nn.CrossEntropyLoss()\n",
    "optimizer = torch.optim.Adam(model.parameters(), lr=0.001)\n",
    "\n",
    "\n",
    "def train_model(model, train_loader, val_loader, criterion, optimizer, epochs=20, patience=5):\n",
    "    history = {\n",
    "        'train_loss': [],\n",
    "        'val_loss': [],\n",
    "        'val_accuracy': [],\n",
    "        'val_f1': []\n",
    "    }\n",
    "    best_f1 = 0.0\n",
    "    no_improvement = 0\n",
    "    best_model_path = \"best_model.pth\"\n",
    "\n",
    "    for epoch in range(epochs):\n",
    "        model.train()\n",
    "        running_loss = 0.0\n",
    "        train_loop = tqdm(train_loader, desc=f\"Epoch {epoch+1}/{epochs}\", unit=\"batch\")\n",
    "\n",
    "        for inputs, labels in train_loop:\n",
    "            inputs, labels = inputs.to(device), labels.to(device)\n",
    "            optimizer.zero_grad()\n",
    "            outputs = model(inputs)\n",
    "            loss = criterion(outputs, labels)\n",
    "            loss.backward()\n",
    "            optimizer.step()\n",
    "            running_loss += loss.item()\n",
    "            train_loop.set_postfix(loss=loss.item())\n",
    "\n",
    "        avg_train_loss = running_loss / len(train_loader)\n",
    "        history['train_loss'].append(avg_train_loss)\n",
    "\n",
    "        # Validation\n",
    "        model.eval()\n",
    "        val_loss = 0.0\n",
    "        correct, total = 0, 0\n",
    "        val_predictions, val_targets = [], []\n",
    "        with torch.no_grad():\n",
    "            for inputs, labels in val_loader:\n",
    "                inputs, labels = inputs.to(device), labels.to(device)\n",
    "                outputs = model(inputs)\n",
    "                loss = criterion(outputs, labels)\n",
    "                val_loss += loss.item()\n",
    "                _, preds = torch.max(outputs, 1)\n",
    "                correct += (preds == labels).sum().item()\n",
    "                total += labels.size(0)\n",
    "                val_predictions.extend(preds.cpu().numpy())\n",
    "                val_targets.extend(labels.cpu().numpy())\n",
    "\n",
    "        avg_val_loss = val_loss / len(val_loader)\n",
    "        val_accuracy = correct / total\n",
    "        f1 = f1_score(val_targets, val_predictions, average=\"weighted\")\n",
    "\n",
    "        history['val_loss'].append(avg_val_loss)\n",
    "        history['val_accuracy'].append(val_accuracy)\n",
    "        history['val_f1'].append(f1)\n",
    "\n",
    "        print(f\"Epoch {epoch+1}/{epochs} - Train Loss: {avg_train_loss:.4f}, \"\n",
    "              f\"Val Loss: {avg_val_loss:.4f}, Val Accuracy: {val_accuracy:.4f}, Val F1-Score: {f1:.4f}\")\n",
    "\n",
    "        if f1 > best_f1:\n",
    "            best_f1 = f1\n",
    "            torch.save(model.state_dict(), best_model_path)\n",
    "            no_improvement = 0\n",
    "        else:\n",
    "            no_improvement += 1\n",
    "\n",
    "        if no_improvement >= patience:\n",
    "            print(f\"Early stopping at epoch {epoch+1}\")\n",
    "            break\n",
    "\n",
    "    model.load_state_dict(torch.load(best_model_path, weights_only=True))\n",
    "    print(f\"Best Validation F1-Score: {best_f1:.4f}\")\n",
    "    return history\n",
    "\n",
    "\n",
    "history = train_model(model, train_loader, val_loader, criterion, optimizer, epochs=10, patience=5)\n"
   ]
  },
  {
   "cell_type": "markdown",
   "source": [
    "Podczas trenowania modelu ResNet50 z użyciem wstępnie nauczonych wag, obserwujemy zmienne wyniki w trakcie 9 epok treningu przed wczesnym zakończeniem procesu z powodu braku postępu. Strata treningowa konsekwentnie spada, zaczynając od 1.5060 w pierwszej epoce, co wskazuje na skuteczne uczenie się. Najlepsze wyniki na zestawie walidacyjnym osiągnięto w epoce 7, gdzie dokładność wyniosła 63.24% a wynik F1 0.6308, co jest najwyższą zanotowaną wartością dla tego miernika. Trening zatrzymano przedwcześnie w 9 epoce z powodu braku dalszej poprawy, co jest częścią strategii mającej na celu zapobieganie nadmiernemu dopasowaniu do danych treningowych."
   ],
   "metadata": {
    "id": "ZnFVujKRNPR3"
   },
   "id": "ZnFVujKRNPR3"
  },
  {
   "cell_type": "markdown",
   "source": [
    "# 7. Ewaluacja modelu ResNet50 na zestawie testowym\n",
    " Funkcja test_model ocenia model na zestawie testowym, przechodząc przez dane bez aktualizacji wag. Wykorzystuje softmax do obliczania prawdopodobieństw klasyfikacji, z którego ekstrahuje przewidywania i prawdziwe etykiety. Na koniec oblicza ważony wynik F1 i AUC dla oceny dokładności modelu w klasyfikacji wieloklasowej.\n",
    "\n",
    "Dodatkowo, funkcja generuje raport klasyfikacji i macierz pomyłek, które dostarczają szczegółowych informacji o wynikach dla każdej klasy, ułatwiając analizę i zrozumienie wydajności modelu."
   ],
   "metadata": {
    "id": "XfnYVB_aitoH"
   },
   "id": "XfnYVB_aitoH"
  },
  {
   "cell_type": "code",
   "execution_count": 12,
   "id": "4ad75eaeb0fdfa41",
   "metadata": {
    "id": "4ad75eaeb0fdfa41",
    "colab": {
     "base_uri": "https://localhost:8080/"
    },
    "outputId": "22127036-0b51-4b8f-b88d-233992de1bcc"
   },
   "outputs": [
    {
     "output_type": "stream",
     "name": "stderr",
     "text": [
      "Testing: 100%|██████████| 26/26 [00:25<00:00,  1.04batch/s]"
     ]
    },
    {
     "output_type": "stream",
     "name": "stdout",
     "text": [
      "Test F1-Score: 0.6394, Test AUC: 0.9891\n"
     ]
    },
    {
     "output_type": "stream",
     "name": "stderr",
     "text": [
      "\n"
     ]
    }
   ],
   "source": [
    "def test_model(model, test_loader):\n",
    "    model.eval()\n",
    "    all_predictions, all_targets = [], []\n",
    "    all_probabilities = []\n",
    "\n",
    "    with torch.no_grad():\n",
    "        for inputs, labels in tqdm(test_loader, desc=\"Testing\", unit=\"batch\"):\n",
    "            inputs, labels = inputs.to(device), labels.to(device)\n",
    "            outputs = model(inputs)\n",
    "            probs = torch.softmax(outputs, dim=1)\n",
    "            _, preds = torch.max(outputs, 1)\n",
    "\n",
    "            all_predictions.extend(preds.cpu().numpy())\n",
    "            all_targets.extend(labels.cpu().numpy())\n",
    "            all_probabilities.extend(probs.cpu().numpy())\n",
    "\n",
    "\n",
    "    f1 = f1_score(all_targets, all_predictions, average=\"weighted\")\n",
    "\n",
    "\n",
    "    n_classes = len(test_loader.dataset.dataset.classes)\n",
    "    all_targets_one_hot = torch.nn.functional.one_hot(\n",
    "        torch.tensor(all_targets), num_classes=n_classes\n",
    "    ).numpy()\n",
    "\n",
    "\n",
    "    auc = roc_auc_score(\n",
    "        y_true=all_targets_one_hot,\n",
    "        y_score=all_probabilities,\n",
    "        multi_class=\"ovr\",\n",
    "        average=\"weighted\"\n",
    "    )\n",
    "\n",
    "    class_names = test_loader.dataset.dataset.classes\n",
    "    report = classification_report(\n",
    "        all_targets,\n",
    "        all_predictions,\n",
    "        target_names=class_names,\n",
    "        output_dict=True\n",
    "    )\n",
    "\n",
    "    report_df = pd.DataFrame(report).transpose()\n",
    "\n",
    "    confusion = confusion_matrix(all_targets, all_predictions)\n",
    "    confusion_df = pd.DataFrame(confusion, index=class_names, columns=class_names)\n",
    "\n",
    "    print(f\"Test F1-Score: {f1:.4f}, Test AUC: {auc:.4f}\")\n",
    "\n",
    "    return f1, auc, report_df, confusion_df\n",
    "\n",
    "f1, auc, report_df, confusion_df = test_model(model, test_loader)\n"
   ]
  },
  {
   "cell_type": "markdown",
   "source": [
    "Wizualizacja historii treningu modelu"
   ],
   "metadata": {
    "id": "cGpusX3FjEqU"
   },
   "id": "cGpusX3FjEqU"
  },
  {
   "cell_type": "code",
   "execution_count": 13,
   "id": "6b81e18545e0fefb",
   "metadata": {
    "colab": {
     "base_uri": "https://localhost:8080/",
     "height": 507
    },
    "id": "6b81e18545e0fefb",
    "outputId": "6ef1e3f7-81e9-4167-d64e-05b8e2253846"
   },
   "outputs": [
    {
     "output_type": "display_data",
     "data": {
      "text/plain": [
       "<Figure size 1200x500 with 2 Axes>"
      ],
      "image/png": "[encoded data removed]"
     },
     "metadata": {}
    }
   ],
   "source": [
    "\n",
    "def plot_training_history(history):\n",
    "    plt.figure(figsize=(12, 5))\n",
    "\n",
    "    plt.subplot(1, 2, 1)\n",
    "    plt.plot(history['train_loss'], label='Train Loss', color='blue', linewidth=1)\n",
    "    plt.plot(history['val_loss'], label='Validation Loss', color='red', linewidth=1)\n",
    "\n",
    "    plt.title('Training Loss Over Epochs')\n",
    "    plt.xlabel('Epochs')\n",
    "    plt.ylabel('Loss')\n",
    "    plt.legend()\n",
    "    plt.grid()\n",
    "\n",
    "\n",
    "    plt.subplot(1, 2, 2)\n",
    "    plt.plot(history['val_f1'], label='Validation F1-Score', color='green', linewidth=2)\n",
    "    plt.title('Validation F1-Score Over Epochs')\n",
    "    plt.xlabel('Epochs')\n",
    "    plt.ylabel('F1-Score')\n",
    "    plt.legend()\n",
    "    plt.grid()\n",
    "\n",
    "    plt.tight_layout()\n",
    "    plt.show()\n",
    "\n",
    "plot_training_history(history)"
   ]
  },
  {
   "cell_type": "code",
   "execution_count": 14,
   "id": "d7f0fa5477a621c5",
   "metadata": {
    "id": "d7f0fa5477a621c5",
    "colab": {
     "base_uri": "https://localhost:8080/",
     "height": 423
    },
    "outputId": "9089bdeb-67a9-4910-e874-3857fcc0b82c"
   },
   "outputs": [
    {
     "output_type": "execute_result",
     "data": {
      "text/plain": [
       "                               precision    recall  f1-score      support\n",
       "n02085620-Chihuahua             0.631579  0.461538  0.533333    26.000000\n",
       "n02085782-Japanese_spaniel      0.709677  0.846154  0.771930    26.000000\n",
       "n02085936-Maltese_dog           0.736842  0.700000  0.717949    40.000000\n",
       "n02086079-Pekinese              0.916667  0.407407  0.564103    27.000000\n",
       "n02086240-Shih-Tzu              0.600000  0.352941  0.444444    34.000000\n",
       "...                                  ...       ...       ...          ...\n",
       "n02116738-African_hunting_dog   0.944444  0.772727  0.850000    22.000000\n",
       "wolf                            0.904110  0.857143  0.880000   154.000000\n",
       "accuracy                        0.636504  0.636504  0.636504     0.636504\n",
       "macro avg                       0.669873  0.630064  0.624971  3238.000000\n",
       "weighted avg                    0.687538  0.636504  0.639442  3238.000000\n",
       "\n",
       "[124 rows x 4 columns]"
      ],
      "text/html": [
       "\n",
       "  <div id=\"df-1a92f877-5a91-47c7-afb0-36861c79815e\" class=\"colab-df-container\">\n",
       "    <div>\n",
       "<style scoped>\n",
       "    .dataframe tbody tr th:only-of-type {\n",
       "        vertical-align: middle;\n",
       "    }\n",
       "\n",
       "    .dataframe tbody tr th {\n",
       "        vertical-align: top;\n",
       "    }\n",
       "\n",
       "    .dataframe thead th {\n",
       "        text-align: right;\n",
       "    }\n",
       "</style>\n",
       "<table border=\"1\" class=\"dataframe\">\n",
       "  <thead>\n",
       "    <tr style=\"text-align: right;\">\n",
       "      <th></th>\n",
       "      <th>precision</th>\n",
       "      <th>recall</th>\n",
       "      <th>f1-score</th>\n",
       "      <th>support</th>\n",
       "    </tr>\n",
       "  </thead>\n",
       "  <tbody>\n",
       "    <tr>\n",
       "      <th>n02085620-Chihuahua</th>\n",
       "      <td>0.631579</td>\n",
       "      <td>0.461538</td>\n",
       "      <td>0.533333</td>\n",
       "      <td>26.000000</td>\n",
       "    </tr>\n",
       "    <tr>\n",
       "      <th>n02085782-Japanese_spaniel</th>\n",
       "      <td>0.709677</td>\n",
       "      <td>0.846154</td>\n",
       "      <td>0.771930</td>\n",
       "      <td>26.000000</td>\n",
       "    </tr>\n",
       "    <tr>\n",
       "      <th>n02085936-Maltese_dog</th>\n",
       "      <td>0.736842</td>\n",
       "      <td>0.700000</td>\n",
       "      <td>0.717949</td>\n",
       "      <td>40.000000</td>\n",
       "    </tr>\n",
       "    <tr>\n",
       "      <th>n02086079-Pekinese</th>\n",
       "      <td>0.916667</td>\n",
       "      <td>0.407407</td>\n",
       "      <td>0.564103</td>\n",
       "      <td>27.000000</td>\n",
       "    </tr>\n",
       "    <tr>\n",
       "      <th>n02086240-Shih-Tzu</th>\n",
       "      <td>0.600000</td>\n",
       "      <td>0.352941</td>\n",
       "      <td>0.444444</td>\n",
       "      <td>34.000000</td>\n",
       "    </tr>\n",
       "    <tr>\n",
       "      <th>...</th>\n",
       "      <td>...</td>\n",
       "      <td>...</td>\n",
       "      <td>...</td>\n",
       "      <td>...</td>\n",
       "    </tr>\n",
       "    <tr>\n",
       "      <th>n02116738-African_hunting_dog</th>\n",
       "      <td>0.944444</td>\n",
       "      <td>0.772727</td>\n",
       "      <td>0.850000</td>\n",
       "      <td>22.000000</td>\n",
       "    </tr>\n",
       "    <tr>\n",
       "      <th>wolf</th>\n",
       "      <td>0.904110</td>\n",
       "      <td>0.857143</td>\n",
       "      <td>0.880000</td>\n",
       "      <td>154.000000</td>\n",
       "    </tr>\n",
       "    <tr>\n",
       "      <th>accuracy</th>\n",
       "      <td>0.636504</td>\n",
       "      <td>0.636504</td>\n",
       "      <td>0.636504</td>\n",
       "      <td>0.636504</td>\n",
       "    </tr>\n",
       "    <tr>\n",
       "      <th>macro avg</th>\n",
       "      <td>0.669873</td>\n",
       "      <td>0.630064</td>\n",
       "      <td>0.624971</td>\n",
       "      <td>3238.000000</td>\n",
       "    </tr>\n",
       "    <tr>\n",
       "      <th>weighted avg</th>\n",
       "      <td>0.687538</td>\n",
       "      <td>0.636504</td>\n",
       "      <td>0.639442</td>\n",
       "      <td>3238.000000</td>\n",
       "    </tr>\n",
       "  </tbody>\n",
       "</table>\n",
       "<p>124 rows × 4 columns</p>\n",
       "</div>\n",
       "    <div class=\"colab-df-buttons\">\n",
       "\n",
       "  <div class=\"colab-df-container\">\n",
       "    <button class=\"colab-df-convert\" onclick=\"convertToInteractive('df-1a92f877-5a91-47c7-afb0-36861c79815e')\"\n",
       "            title=\"Convert this dataframe to an interactive table.\"\n",
       "            style=\"display:none;\">\n",
       "\n",
       "  <svg xmlns=\"http://www.w3.org/2000/svg\" height=\"24px\" viewBox=\"0 -960 960 960\">\n",
       "    <path d=\"M120-120v-720h720v720H120Zm60-500h600v-160H180v160Zm220 220h160v-160H400v160Zm0 220h160v-160H400v160ZM180-400h160v-160H180v160Zm440 0h160v-160H620v160ZM180-180h160v-160H180v160Zm440 0h160v-160H620v160Z\"/>\n",
       "  </svg>\n",
       "    </button>\n",
       "\n",
       "  <style>\n",
       "    .colab-df-container {\n",
       "      display:flex;\n",
       "      gap: 12px;\n",
       "    }\n",
       "\n",
       "    .colab-df-convert {\n",
       "      background-color: #E8F0FE;\n",
       "      border: none;\n",
       "      border-radius: 50%;\n",
       "      cursor: pointer;\n",
       "      display: none;\n",
       "      fill: #1967D2;\n",
       "      height: 32px;\n",
       "      padding: 0 0 0 0;\n",
       "      width: 32px;\n",
       "    }\n",
       "\n",
       "    .colab-df-convert:hover {\n",
       "      background-color: #E2EBFA;\n",
       "      box-shadow: 0px 1px 2px rgba(60, 64, 67, 0.3), 0px 1px 3px 1px rgba(60, 64, 67, 0.15);\n",
       "      fill: #174EA6;\n",
       "    }\n",
       "\n",
       "    .colab-df-buttons div {\n",
       "      margin-bottom: 4px;\n",
       "    }\n",
       "\n",
       "    [theme=dark] .colab-df-convert {\n",
       "      background-color: #3B4455;\n",
       "      fill: #D2E3FC;\n",
       "    }\n",
       "\n",
       "    [theme=dark] .colab-df-convert:hover {\n",
       "      background-color: #434B5C;\n",
       "      box-shadow: 0px 1px 3px 1px rgba(0, 0, 0, 0.15);\n",
       "      filter: drop-shadow(0px 1px 2px rgba(0, 0, 0, 0.3));\n",
       "      fill: #FFFFFF;\n",
       "    }\n",
       "  </style>\n",
       "\n",
       "    <script>\n",
       "      const buttonEl =\n",
       "        document.querySelector('#df-1a92f877-5a91-47c7-afb0-36861c79815e button.colab-df-convert');\n",
       "      buttonEl.style.display =\n",
       "        google.colab.kernel.accessAllowed ? 'block' : 'none';\n",
       "\n",
       "      async function convertToInteractive(key) {\n",
       "        const element = document.querySelector('#df-1a92f877-5a91-47c7-afb0-36861c79815e');\n",
       "        const dataTable =\n",
       "          await google.colab.kernel.invokeFunction('convertToInteractive',\n",
       "                                                    [key], {});\n",
       "        if (!dataTable) return;\n",
       "\n",
       "        const docLinkHtml = 'Like what you see? Visit the ' +\n",
       "          '<a target=\"_blank\" href=https://colab.research.google.com/notebooks/data_table.ipynb>data table notebook</a>'\n",
       "          + ' to learn more about interactive tables.';\n",
       "        element.innerHTML = '';\n",
       "        dataTable['output_type'] = 'display_data';\n",
       "        await google.colab.output.renderOutput(dataTable, element);\n",
       "        const docLink = document.createElement('div');\n",
       "        docLink.innerHTML = docLinkHtml;\n",
       "        element.appendChild(docLink);\n",
       "      }\n",
       "    </script>\n",
       "  </div>\n",
       "\n",
       "\n",
       "<div id=\"df-5dace702-e663-4927-956a-5d75200fdc2c\">\n",
       "  <button class=\"colab-df-quickchart\" onclick=\"quickchart('df-5dace702-e663-4927-956a-5d75200fdc2c')\"\n",
       "            title=\"Suggest charts\"\n",
       "            style=\"display:none;\">\n",
       "\n",
       "<svg xmlns=\"http://www.w3.org/2000/svg\" height=\"24px\"viewBox=\"0 0 24 24\"\n",
       "     width=\"24px\">\n",
       "    <g>\n",
       "        <path d=\"M19 3H5c-1.1 0-2 .9-2 2v14c0 1.1.9 2 2 2h14c1.1 0 2-.9 2-2V5c0-1.1-.9-2-2-2zM9 17H7v-7h2v7zm4 0h-2V7h2v10zm4 0h-2v-4h2v4z\"/>\n",
       "    </g>\n",
       "</svg>\n",
       "  </button>\n",
       "\n",
       "<style>\n",
       "  .colab-df-quickchart {\n",
       "      --bg-color: #E8F0FE;\n",
       "      --fill-color: #1967D2;\n",
       "      --hover-bg-color: #E2EBFA;\n",
       "      --hover-fill-color: #174EA6;\n",
       "      --disabled-fill-color: #AAA;\n",
       "      --disabled-bg-color: #DDD;\n",
       "  }\n",
       "\n",
       "  [theme=dark] .colab-df-quickchart {\n",
       "      --bg-color: #3B4455;\n",
       "      --fill-color: #D2E3FC;\n",
       "      --hover-bg-color: #434B5C;\n",
       "      --hover-fill-color: #FFFFFF;\n",
       "      --disabled-bg-color: #3B4455;\n",
       "      --disabled-fill-color: #666;\n",
       "  }\n",
       "\n",
       "  .colab-df-quickchart {\n",
       "    background-color: var(--bg-color);\n",
       "    border: none;\n",
       "    border-radius: 50%;\n",
       "    cursor: pointer;\n",
       "    display: none;\n",
       "    fill: var(--fill-color);\n",
       "    height: 32px;\n",
       "    padding: 0;\n",
       "    width: 32px;\n",
       "  }\n",
       "\n",
       "  .colab-df-quickchart:hover {\n",
       "    background-color: var(--hover-bg-color);\n",
       "    box-shadow: 0 1px 2px rgba(60, 64, 67, 0.3), 0 1px 3px 1px rgba(60, 64, 67, 0.15);\n",
       "    fill: var(--button-hover-fill-color);\n",
       "  }\n",
       "\n",
       "  .colab-df-quickchart-complete:disabled,\n",
       "  .colab-df-quickchart-complete:disabled:hover {\n",
       "    background-color: var(--disabled-bg-color);\n",
       "    fill: var(--disabled-fill-color);\n",
       "    box-shadow: none;\n",
       "  }\n",
       "\n",
       "  .colab-df-spinner {\n",
       "    border: 2px solid var(--fill-color);\n",
       "    border-color: transparent;\n",
       "    border-bottom-color: var(--fill-color);\n",
       "    animation:\n",
       "      spin 1s steps(1) infinite;\n",
       "  }\n",
       "\n",
       "  @keyframes spin {\n",
       "    0% {\n",
       "      border-color: transparent;\n",
       "      border-bottom-color: var(--fill-color);\n",
       "      border-left-color: var(--fill-color);\n",
       "    }\n",
       "    20% {\n",
       "      border-color: transparent;\n",
       "      border-left-color: var(--fill-color);\n",
       "      border-top-color: var(--fill-color);\n",
       "    }\n",
       "    30% {\n",
       "      border-color: transparent;\n",
       "      border-left-color: var(--fill-color);\n",
       "      border-top-color: var(--fill-color);\n",
       "      border-right-color: var(--fill-color);\n",
       "    }\n",
       "    40% {\n",
       "      border-color: transparent;\n",
       "      border-right-color: var(--fill-color);\n",
       "      border-top-color: var(--fill-color);\n",
       "    }\n",
       "    60% {\n",
       "      border-color: transparent;\n",
       "      border-right-color: var(--fill-color);\n",
       "    }\n",
       "    80% {\n",
       "      border-color: transparent;\n",
       "      border-right-color: var(--fill-color);\n",
       "      border-bottom-color: var(--fill-color);\n",
       "    }\n",
       "    90% {\n",
       "      border-color: transparent;\n",
       "      border-bottom-color: var(--fill-color);\n",
       "    }\n",
       "  }\n",
       "</style>\n",
       "\n",
       "  <script>\n",
       "    async function quickchart(key) {\n",
       "      const quickchartButtonEl =\n",
       "        document.querySelector('#' + key + ' button');\n",
       "      quickchartButtonEl.disabled = true;  // To prevent multiple clicks.\n",
       "      quickchartButtonEl.classList.add('colab-df-spinner');\n",
       "      try {\n",
       "        const charts = await google.colab.kernel.invokeFunction(\n",
       "            'suggestCharts', [key], {});\n",
       "      } catch (error) {\n",
       "        console.error('Error during call to suggestCharts:', error);\n",
       "      }\n",
       "      quickchartButtonEl.classList.remove('colab-df-spinner');\n",
       "      quickchartButtonEl.classList.add('colab-df-quickchart-complete');\n",
       "    }\n",
       "    (() => {\n",
       "      let quickchartButtonEl =\n",
       "        document.querySelector('#df-5dace702-e663-4927-956a-5d75200fdc2c button');\n",
       "      quickchartButtonEl.style.display =\n",
       "        google.colab.kernel.accessAllowed ? 'block' : 'none';\n",
       "    })();\n",
       "  </script>\n",
       "</div>\n",
       "\n",
       "  <div id=\"id_a50545cb-47ab-48a7-9135-a625c5b167d9\">\n",
       "    <style>\n",
       "      .colab-df-generate {\n",
       "        background-color: #E8F0FE;\n",
       "        border: none;\n",
       "        border-radius: 50%;\n",
       "        cursor: pointer;\n",
       "        display: none;\n",
       "        fill: #1967D2;\n",
       "        height: 32px;\n",
       "        padding: 0 0 0 0;\n",
       "        width: 32px;\n",
       "      }\n",
       "\n",
       "      .colab-df-generate:hover {\n",
       "        background-color: #E2EBFA;\n",
       "        box-shadow: 0px 1px 2px rgba(60, 64, 67, 0.3), 0px 1px 3px 1px rgba(60, 64, 67, 0.15);\n",
       "        fill: #174EA6;\n",
       "      }\n",
       "\n",
       "      [theme=dark] .colab-df-generate {\n",
       "        background-color: #3B4455;\n",
       "        fill: #D2E3FC;\n",
       "      }\n",
       "\n",
       "      [theme=dark] .colab-df-generate:hover {\n",
       "        background-color: #434B5C;\n",
       "        box-shadow: 0px 1px 3px 1px rgba(0, 0, 0, 0.15);\n",
       "        filter: drop-shadow(0px 1px 2px rgba(0, 0, 0, 0.3));\n",
       "        fill: #FFFFFF;\n",
       "      }\n",
       "    </style>\n",
       "    <button class=\"colab-df-generate\" onclick=\"generateWithVariable('report_df')\"\n",
       "            title=\"Generate code using this dataframe.\"\n",
       "            style=\"display:none;\">\n",
       "\n",
       "  <svg xmlns=\"http://www.w3.org/2000/svg\" height=\"24px\"viewBox=\"0 0 24 24\"\n",
       "       width=\"24px\">\n",
       "    <path d=\"M7,19H8.4L18.45,9,17,7.55,7,17.6ZM5,21V16.75L18.45,3.32a2,2,0,0,1,2.83,0l1.4,1.43a1.91,1.91,0,0,1,.58,1.4,1.91,1.91,0,0,1-.58,1.4L9.25,21ZM18.45,9,17,7.55Zm-12,3A5.31,5.31,0,0,0,4.9,8.1,5.31,5.31,0,0,0,1,6.5,5.31,5.31,0,0,0,4.9,4.9,5.31,5.31,0,0,0,6.5,1,5.31,5.31,0,0,0,8.1,4.9,5.31,5.31,0,0,0,12,6.5,5.46,5.46,0,0,0,6.5,12Z\"/>\n",
       "  </svg>\n",
       "    </button>\n",
       "    <script>\n",
       "      (() => {\n",
       "      const buttonEl =\n",
       "        document.querySelector('#id_a50545cb-47ab-48a7-9135-a625c5b167d9 button.colab-df-generate');\n",
       "      buttonEl.style.display =\n",
       "        google.colab.kernel.accessAllowed ? 'block' : 'none';\n",
       "\n",
       "      buttonEl.onclick = () => {\n",
       "        google.colab.notebook.generateWithVariable('report_df');\n",
       "      }\n",
       "      })();\n",
       "    </script>\n",
       "  </div>\n",
       "\n",
       "    </div>\n",
       "  </div>\n"
      ],
      "application/vnd.google.colaboratory.intrinsic+json": {
       "type": "dataframe",
       "variable_name": "report_df",
       "summary": "{\n  \"name\": \"report_df\",\n  \"rows\": 124,\n  \"fields\": [\n    {\n      \"column\": \"precision\",\n      \"properties\": {\n        \"dtype\": \"number\",\n        \"std\": 0.19391989325469713,\n        \"min\": 0.2682926829268293,\n        \"max\": 1.0,\n        \"num_unique_values\": 87,\n        \"samples\": [\n          0.7857142857142857,\n          0.631578947368421,\n          0.8461538461538461\n        ],\n        \"semantic_type\": \"\",\n        \"description\": \"\"\n      }\n    },\n    {\n      \"column\": \"recall\",\n      \"properties\": {\n        \"dtype\": \"number\",\n        \"std\": 0.1748531612904884,\n        \"min\": 0.2857142857142857,\n        \"max\": 1.0,\n        \"num_unique_values\": 90,\n        \"samples\": [\n          0.4,\n          1.0,\n          0.8857142857142857\n        ],\n        \"semantic_type\": \"\",\n        \"description\": \"\"\n      }\n    },\n    {\n      \"column\": \"f1-score\",\n      \"properties\": {\n        \"dtype\": \"number\",\n        \"std\": 0.14094428393769576,\n        \"min\": 0.3125,\n        \"max\": 0.9032258064516129,\n        \"num_unique_values\": 94,\n        \"samples\": [\n          0.7450980392156863,\n          0.5,\n          0.4918032786885246\n        ],\n        \"semantic_type\": \"\",\n        \"description\": \"\"\n      }\n    },\n    {\n      \"column\": \"support\",\n      \"properties\": {\n        \"dtype\": \"number\",\n        \"std\": 406.4067653782115,\n        \"min\": 0.6365040148239655,\n        \"max\": 3238.0,\n        \"num_unique_values\": 30,\n        \"samples\": [\n          154.0,\n          29.0,\n          15.0\n        ],\n        \"semantic_type\": \"\",\n        \"description\": \"\"\n      }\n    }\n  ]\n}"
      }
     },
     "metadata": {},
     "execution_count": 14
    }
   ],
   "source": [
    "report_df"
   ]
  }
 ],
 "metadata": {
  "accelerator": "GPU",
  "colab": {
   "gpuType": "T4",
   "provenance": []
  },
  "kernelspec": {
   "display_name": "Python 3",
   "name": "python3"
  },
  "language_info": {
   "codemirror_mode": {
    "name": "ipython",
    "version": 3
   },
   "file_extension": ".py",
   "mimetype": "text/x-python",
   "name": "python",
   "nbconvert_exporter": "python",
   "pygments_lexer": "ipython3",
   "version": "3.12.2"
  }
 },
 "nbformat": 4,
 "nbformat_minor": 5
}
